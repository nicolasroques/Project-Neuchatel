{
  "cells": [
    {
      "cell_type": "markdown",
      "metadata": {
        "id": "view-in-github",
        "colab_type": "text"
      },
      "source": [
        "<a href=\"https://colab.research.google.com/github/nicolasroques/Project-Neuchatel/blob/main/Project_Data_Science_and_Machine_Learning.ipynb\" target=\"_parent\"><img src=\"https://colab.research.google.com/assets/colab-badge.svg\" alt=\"Open In Colab\"/></a>"
      ]
    },
    {
      "cell_type": "markdown",
      "metadata": {
        "id": "8ZKqCFFbNZ04"
      },
      "source": [
        "# Data Mining and Machine Learning - Project\n",
        "\n",
        "## Detecting Difficulty Level of French Texts\n",
        "\n",
        "### Step by step guidelines\n",
        "\n",
        "The following are a set of step by step guidelines to help you get started with your project for the Data Mining and Machine Learning class.\n",
        "To test what you learned in the class, we will hold a competition. You will create a classifier that predicts how the level of some text in French (A1,..., C2). The team with the highest rank will get some goodies in the last class (some souvenirs from tech companies: Amazon, LinkedIn, etc).\n",
        "\n",
        "**2 people per team**\n",
        "\n",
        "Choose a team here:\n",
        "https://moodle.unil.ch/mod/choicegroup/view.php?id=1542704\n",
        "\n",
        "You have decided to form a startup called “LingoRank” with your University friend and become a millionaire. You have until the end the semester to create a proof of concept for your investors. Your startup will revolutionize the way people learn and get better at a foreign language.\n",
        "\n",
        "### THE IDEA\n",
        "You have noticed that to improve one’s skills in a new foreign language, it is important to read texts in that language. These texts have to be at the reader’s language level. However, it is difficult to find texts that are close to someone’s knowledge level (`A1 to C2`). You have decided to build a model for English speakers that predicts the difficulty of a French written text. This can be then used, e.g., in a recommendation system, to recommend texts, e.g, recent news articles that are appropriate for someone’s language level. If someone is at A1 French level, it is inappropriate to present a text at B2 level, as she won’t be able to understand it. Ideally, a text should have many known words and may have a few words that are unknown so that the person can improve.\n",
        "\n",
        "### 🗄 DATA\n",
        "You can find the training data and the unlabeled test data in the Data tab.\n",
        "\n",
        "### 🚀 SUBMISSION\n",
        "As you build your model and train it on the training data, you can generate predictions for the ( unlabelled ) test data. Make sure that your submission file has the same format as the `sample_submission.csv` file in the Data tab. Once you are sure about your model and satisfied with the prediction accuracy you got on your own test data, you can try to generate predictions for the actual test data and submit it to the competition.\n",
        "\n",
        "As soon as you make a submission you can see the prediction accuracy and your ranking on the leaderboard. Note that you can only make 5 submissions per day. To know more about the competition rules, check out the rules tab.\n",
        "\n",
        "### 🚚  DELIVERABLES\n",
        "\n",
        "-    **Github**: A project GitHub page. There, report the following table *without doing any cleaning on the data*. Do hyper-parameter optimization to find the best solution. Your code should justify your results.\n",
        "\n",
        "|  |  Logistic regression |  kNN | Decision Tree | Random Forests | Any other technique |\n",
        "| --- | --- | --- | --- | --- |\n",
        "|Precision |  | | | |\n",
        "|  Recall |  | | | |\n",
        "|  F1-score |  | | | |\n",
        "|  Accuracy |  | | | | |  |  |\n",
        "\n",
        "\n",
        "\n",
        "-    Which is the best model?\n",
        "-    Show the confusion matrix.\n",
        "-    Show examples of some erroneous predictions. Can you understand where the error is coming from?\n",
        "-    Do some more analysis to better understand how your model behaves.\n",
        "-    Have a position in the leaderboard of this competition\n",
        "\n",
        "Then try to improve this solution and climb up the leaderboard ladder! Expected score results:\n",
        "\n",
        ">0.46 -> Hm,….you could have tried harder…\n",
        ">0.47 - 0.52 -> not bad, but you could have done better.\n",
        ">0.56 - 0.57 -> You did your work\n",
        ">0.7 -> You used text embeddings, very good\n",
        ">0.78+ -> WOW!\n",
        "\n",
        "- **User interface/application**: Think how to use the model in an application. Create a UI with streamlit. You are free to conceive and create whichever application you like with your text difficulty model.\n",
        "\n",
        "\n",
        "-    **Video**: Create a YouTube video of your solution and embed it in your notebook. Imagine you are giving a presentation or a tutorial. The video should explain:\n",
        "    -    The problem, your algorithm, how you determine the difficulty.\n",
        "    -    An evaluation of your solution *accuracy, precision, recall, F1-score, etc*.\n",
        "    -    A demo of your solution (the UI you implemented).\n",
        "\n",
        "Upload the video on **Youtube** (set it as *unlisted* if you don't wish it to be publicly visible) and put the link to the video in the readme of the Github repository of your team.\n",
        "\n",
        "### Tips:\n",
        "\n",
        "Things you should considering trying are:\n",
        "- data cleaning (maybe not so important in this dataset, but try!)\n",
        "- data augmentation (sentence features, e.g., length, [cognates](https://www.fluentin3months.com/french-cognates/), POS, etc),\n",
        "- use [text embeddings](https://huggingface.co/blog/getting-started-with-embeddings) (Bert, RoBerta, etc). That's your best bet for boosting prediction accuracy. First use a [static embeddings](https://www.kaggle.com/code/matleonard/word-vectors/notebook). Then you can use an embedding and post-train it ([transfer learning](https://spacy.io/usage/embeddings-transformers)) with our own data labels. This should give you (ideally!) the best results.\n",
        "\n",
        "More ideas for those that wish to go the extra mile:\n",
        "- Make an application that searches and ranks French YouTube videos using the captions.\n",
        "- Create an interpretable model that highlights the difficulty of the words/phrases.\n",
        "\n",
        "### 👩‍💻 LOGISTICS AND DEADLINE\n",
        "\n",
        "First of all, create an account in kaggle (if you don't have one already). As you enter the competition page, under the Team tab you can merge your user account with your teammates in order to create a *team*. For selecting your team name, please follow the following guideline:\n",
        "\n",
        "-    For students, participating from UNIL use: `UNIL_<your team name>`. For students from EPFL use: `EPFL_<your team name>`.\n",
        "\n",
        "Your team name will be shown on the leaderboard and you can compare your score with other teams as you submit your solution. Make sure to mention your team name in your notebook.\n",
        "\n",
        "###📱 CONTACT\n",
        "-    Stergios\n",
        "-    Ludovic"
      ]
    },
    {
      "cell_type": "markdown",
      "metadata": {
        "id": "9-14CAdOoinM"
      },
      "source": [
        "## Some further details for points 3 and 4 above.\n",
        "\n",
        "### 3. Read data into your notebook with the Kaggle API (optional but useful).\n",
        "\n",
        "You can also download the data from Kaggle and put it in your team's repo the data folder."
      ]
    },
    {
      "cell_type": "code",
      "execution_count": 171,
      "metadata": {
        "colab": {
          "base_uri": "https://localhost:8080/"
        },
        "id": "UJ_hnJzSNO2g",
        "outputId": "44074ebf-e107-47b4-9aaf-a3a2bd67d305"
      },
      "outputs": [
        {
          "output_type": "stream",
          "name": "stdout",
          "text": [
            "Mounted at /content/drive\n"
          ]
        }
      ],
      "source": [
        "# reading in the data via the Kaggle API\n",
        "\n",
        "# mount your Google Drive\n",
        "from google.colab import drive\n",
        "drive.mount('/content/drive', force_remount=True)"
      ]
    },
    {
      "cell_type": "code",
      "execution_count": 172,
      "metadata": {
        "colab": {
          "base_uri": "https://localhost:8080/"
        },
        "id": "mJPTz3D7TeQv",
        "outputId": "fb61f0f5-31c4-407a-ca1d-7a789e32dcee"
      },
      "outputs": [
        {
          "output_type": "stream",
          "name": "stdout",
          "text": [
            "Requirement already satisfied: kaggle in /usr/local/lib/python3.10/dist-packages (1.5.16)\n",
            "Requirement already satisfied: six>=1.10 in /usr/local/lib/python3.10/dist-packages (from kaggle) (1.16.0)\n",
            "Requirement already satisfied: certifi in /usr/local/lib/python3.10/dist-packages (from kaggle) (2023.11.17)\n",
            "Requirement already satisfied: python-dateutil in /usr/local/lib/python3.10/dist-packages (from kaggle) (2.8.2)\n",
            "Requirement already satisfied: requests in /usr/local/lib/python3.10/dist-packages (from kaggle) (2.31.0)\n",
            "Requirement already satisfied: tqdm in /usr/local/lib/python3.10/dist-packages (from kaggle) (4.66.1)\n",
            "Requirement already satisfied: python-slugify in /usr/local/lib/python3.10/dist-packages (from kaggle) (8.0.1)\n",
            "Requirement already satisfied: urllib3 in /usr/local/lib/python3.10/dist-packages (from kaggle) (2.0.7)\n",
            "Requirement already satisfied: bleach in /usr/local/lib/python3.10/dist-packages (from kaggle) (6.1.0)\n",
            "Requirement already satisfied: webencodings in /usr/local/lib/python3.10/dist-packages (from bleach->kaggle) (0.5.1)\n",
            "Requirement already satisfied: text-unidecode>=1.3 in /usr/local/lib/python3.10/dist-packages (from python-slugify->kaggle) (1.3)\n",
            "Requirement already satisfied: charset-normalizer<4,>=2 in /usr/local/lib/python3.10/dist-packages (from requests->kaggle) (3.3.2)\n",
            "Requirement already satisfied: idna<4,>=2.5 in /usr/local/lib/python3.10/dist-packages (from requests->kaggle) (3.6)\n"
          ]
        }
      ],
      "source": [
        "# install Kaggle\n",
        "! pip install kaggle"
      ]
    },
    {
      "cell_type": "markdown",
      "metadata": {
        "id": "ZKG1TCddRYTB"
      },
      "source": [
        "Log into your Kaggle account, go to Account > API > Create new API token. You will obtain a kaggle.json file, which you save on your Google Drive directy in my drive."
      ]
    },
    {
      "cell_type": "code",
      "execution_count": 173,
      "metadata": {
        "id": "JgzLj451YDfV",
        "colab": {
          "base_uri": "https://localhost:8080/"
        },
        "outputId": "26fcb5c3-e550-4460-a339-d5b7847ee4b2"
      },
      "outputs": [
        {
          "output_type": "stream",
          "name": "stdout",
          "text": [
            "mkdir: cannot create directory ‘/root/.kaggle’: File exists\n"
          ]
        }
      ],
      "source": [
        "!mkdir ~/.kaggle"
      ]
    },
    {
      "cell_type": "code",
      "execution_count": 174,
      "metadata": {
        "id": "KrsZLalrSI3u"
      },
      "outputs": [],
      "source": [
        "#read in your Kaggle credentials from Google Drive\n",
        "!cp /content/drive/MyDrive/Kaggle/kaggle.json ~/.kaggle/kaggle.json\n"
      ]
    },
    {
      "cell_type": "markdown",
      "metadata": {
        "id": "Zbu_8qy4Ckos"
      },
      "source": [
        "### if the next step fails, please refer to the documentation [available here](https://medium.com/analytics-vidhya/how-to-fetch-kaggle-datasets-into-google-colab-ea682569851a)"
      ]
    },
    {
      "cell_type": "code",
      "execution_count": 175,
      "metadata": {
        "colab": {
          "base_uri": "https://localhost:8080/"
        },
        "id": "BDI60LXKTPzf",
        "outputId": "c715df76-f15d-43b8-c49e-f1828e536cf4"
      },
      "outputs": [
        {
          "output_type": "stream",
          "name": "stdout",
          "text": [
            "detecting-french-texts-difficulty-level-2023.zip: Skipping, found more recently modified local copy (use --force to force download)\n"
          ]
        }
      ],
      "source": [
        "# download the dataset from the competition page\n",
        "! kaggle competitions download -c detecting-french-texts-difficulty-level-2023\n",
        "from zipfile import ZipFile\n",
        "with ZipFile('detecting-french-texts-difficulty-level-2023.zip','r') as zip:\n",
        "  zip.extractall(path=\"\")"
      ]
    },
    {
      "cell_type": "code",
      "execution_count": 176,
      "metadata": {
        "id": "daqvj7feTx60"
      },
      "outputs": [],
      "source": [
        "# read in your training data\n",
        "import pandas as pd\n",
        "import numpy as np\n",
        "\n",
        "df = pd.read_csv('training_data.csv', index_col = 'id')"
      ]
    },
    {
      "cell_type": "code",
      "execution_count": 177,
      "metadata": {
        "id": "VxRSnk5bhTp8",
        "colab": {
          "base_uri": "https://localhost:8080/",
          "height": 237
        },
        "outputId": "f2a32ae6-6ccf-4922-99da-7e6f177c0d8f"
      },
      "outputs": [
        {
          "output_type": "execute_result",
          "data": {
            "text/plain": [
              "                                             sentence difficulty\n",
              "id                                                              \n",
              "0   Les coûts kilométriques réels peuvent diverger...         C1\n",
              "1   Le bleu, c'est ma couleur préférée mais je n'a...         A1\n",
              "2   Le test de niveau en français est sur le site ...         A1\n",
              "3            Est-ce que ton mari est aussi de Boston?         A1\n",
              "4   Dans les écoles de commerce, dans les couloirs...         B1"
            ],
            "text/html": [
              "\n",
              "  <div id=\"df-e62fc5de-8569-4d13-abcf-0153727edf4d\" class=\"colab-df-container\">\n",
              "    <div>\n",
              "<style scoped>\n",
              "    .dataframe tbody tr th:only-of-type {\n",
              "        vertical-align: middle;\n",
              "    }\n",
              "\n",
              "    .dataframe tbody tr th {\n",
              "        vertical-align: top;\n",
              "    }\n",
              "\n",
              "    .dataframe thead th {\n",
              "        text-align: right;\n",
              "    }\n",
              "</style>\n",
              "<table border=\"1\" class=\"dataframe\">\n",
              "  <thead>\n",
              "    <tr style=\"text-align: right;\">\n",
              "      <th></th>\n",
              "      <th>sentence</th>\n",
              "      <th>difficulty</th>\n",
              "    </tr>\n",
              "    <tr>\n",
              "      <th>id</th>\n",
              "      <th></th>\n",
              "      <th></th>\n",
              "    </tr>\n",
              "  </thead>\n",
              "  <tbody>\n",
              "    <tr>\n",
              "      <th>0</th>\n",
              "      <td>Les coûts kilométriques réels peuvent diverger...</td>\n",
              "      <td>C1</td>\n",
              "    </tr>\n",
              "    <tr>\n",
              "      <th>1</th>\n",
              "      <td>Le bleu, c'est ma couleur préférée mais je n'a...</td>\n",
              "      <td>A1</td>\n",
              "    </tr>\n",
              "    <tr>\n",
              "      <th>2</th>\n",
              "      <td>Le test de niveau en français est sur le site ...</td>\n",
              "      <td>A1</td>\n",
              "    </tr>\n",
              "    <tr>\n",
              "      <th>3</th>\n",
              "      <td>Est-ce que ton mari est aussi de Boston?</td>\n",
              "      <td>A1</td>\n",
              "    </tr>\n",
              "    <tr>\n",
              "      <th>4</th>\n",
              "      <td>Dans les écoles de commerce, dans les couloirs...</td>\n",
              "      <td>B1</td>\n",
              "    </tr>\n",
              "  </tbody>\n",
              "</table>\n",
              "</div>\n",
              "    <div class=\"colab-df-buttons\">\n",
              "\n",
              "  <div class=\"colab-df-container\">\n",
              "    <button class=\"colab-df-convert\" onclick=\"convertToInteractive('df-e62fc5de-8569-4d13-abcf-0153727edf4d')\"\n",
              "            title=\"Convert this dataframe to an interactive table.\"\n",
              "            style=\"display:none;\">\n",
              "\n",
              "  <svg xmlns=\"http://www.w3.org/2000/svg\" height=\"24px\" viewBox=\"0 -960 960 960\">\n",
              "    <path d=\"M120-120v-720h720v720H120Zm60-500h600v-160H180v160Zm220 220h160v-160H400v160Zm0 220h160v-160H400v160ZM180-400h160v-160H180v160Zm440 0h160v-160H620v160ZM180-180h160v-160H180v160Zm440 0h160v-160H620v160Z\"/>\n",
              "  </svg>\n",
              "    </button>\n",
              "\n",
              "  <style>\n",
              "    .colab-df-container {\n",
              "      display:flex;\n",
              "      gap: 12px;\n",
              "    }\n",
              "\n",
              "    .colab-df-convert {\n",
              "      background-color: #E8F0FE;\n",
              "      border: none;\n",
              "      border-radius: 50%;\n",
              "      cursor: pointer;\n",
              "      display: none;\n",
              "      fill: #1967D2;\n",
              "      height: 32px;\n",
              "      padding: 0 0 0 0;\n",
              "      width: 32px;\n",
              "    }\n",
              "\n",
              "    .colab-df-convert:hover {\n",
              "      background-color: #E2EBFA;\n",
              "      box-shadow: 0px 1px 2px rgba(60, 64, 67, 0.3), 0px 1px 3px 1px rgba(60, 64, 67, 0.15);\n",
              "      fill: #174EA6;\n",
              "    }\n",
              "\n",
              "    .colab-df-buttons div {\n",
              "      margin-bottom: 4px;\n",
              "    }\n",
              "\n",
              "    [theme=dark] .colab-df-convert {\n",
              "      background-color: #3B4455;\n",
              "      fill: #D2E3FC;\n",
              "    }\n",
              "\n",
              "    [theme=dark] .colab-df-convert:hover {\n",
              "      background-color: #434B5C;\n",
              "      box-shadow: 0px 1px 3px 1px rgba(0, 0, 0, 0.15);\n",
              "      filter: drop-shadow(0px 1px 2px rgba(0, 0, 0, 0.3));\n",
              "      fill: #FFFFFF;\n",
              "    }\n",
              "  </style>\n",
              "\n",
              "    <script>\n",
              "      const buttonEl =\n",
              "        document.querySelector('#df-e62fc5de-8569-4d13-abcf-0153727edf4d button.colab-df-convert');\n",
              "      buttonEl.style.display =\n",
              "        google.colab.kernel.accessAllowed ? 'block' : 'none';\n",
              "\n",
              "      async function convertToInteractive(key) {\n",
              "        const element = document.querySelector('#df-e62fc5de-8569-4d13-abcf-0153727edf4d');\n",
              "        const dataTable =\n",
              "          await google.colab.kernel.invokeFunction('convertToInteractive',\n",
              "                                                    [key], {});\n",
              "        if (!dataTable) return;\n",
              "\n",
              "        const docLinkHtml = 'Like what you see? Visit the ' +\n",
              "          '<a target=\"_blank\" href=https://colab.research.google.com/notebooks/data_table.ipynb>data table notebook</a>'\n",
              "          + ' to learn more about interactive tables.';\n",
              "        element.innerHTML = '';\n",
              "        dataTable['output_type'] = 'display_data';\n",
              "        await google.colab.output.renderOutput(dataTable, element);\n",
              "        const docLink = document.createElement('div');\n",
              "        docLink.innerHTML = docLinkHtml;\n",
              "        element.appendChild(docLink);\n",
              "      }\n",
              "    </script>\n",
              "  </div>\n",
              "\n",
              "\n",
              "<div id=\"df-a8c35862-b446-46be-866d-90f59100c5f1\">\n",
              "  <button class=\"colab-df-quickchart\" onclick=\"quickchart('df-a8c35862-b446-46be-866d-90f59100c5f1')\"\n",
              "            title=\"Suggest charts\"\n",
              "            style=\"display:none;\">\n",
              "\n",
              "<svg xmlns=\"http://www.w3.org/2000/svg\" height=\"24px\"viewBox=\"0 0 24 24\"\n",
              "     width=\"24px\">\n",
              "    <g>\n",
              "        <path d=\"M19 3H5c-1.1 0-2 .9-2 2v14c0 1.1.9 2 2 2h14c1.1 0 2-.9 2-2V5c0-1.1-.9-2-2-2zM9 17H7v-7h2v7zm4 0h-2V7h2v10zm4 0h-2v-4h2v4z\"/>\n",
              "    </g>\n",
              "</svg>\n",
              "  </button>\n",
              "\n",
              "<style>\n",
              "  .colab-df-quickchart {\n",
              "      --bg-color: #E8F0FE;\n",
              "      --fill-color: #1967D2;\n",
              "      --hover-bg-color: #E2EBFA;\n",
              "      --hover-fill-color: #174EA6;\n",
              "      --disabled-fill-color: #AAA;\n",
              "      --disabled-bg-color: #DDD;\n",
              "  }\n",
              "\n",
              "  [theme=dark] .colab-df-quickchart {\n",
              "      --bg-color: #3B4455;\n",
              "      --fill-color: #D2E3FC;\n",
              "      --hover-bg-color: #434B5C;\n",
              "      --hover-fill-color: #FFFFFF;\n",
              "      --disabled-bg-color: #3B4455;\n",
              "      --disabled-fill-color: #666;\n",
              "  }\n",
              "\n",
              "  .colab-df-quickchart {\n",
              "    background-color: var(--bg-color);\n",
              "    border: none;\n",
              "    border-radius: 50%;\n",
              "    cursor: pointer;\n",
              "    display: none;\n",
              "    fill: var(--fill-color);\n",
              "    height: 32px;\n",
              "    padding: 0;\n",
              "    width: 32px;\n",
              "  }\n",
              "\n",
              "  .colab-df-quickchart:hover {\n",
              "    background-color: var(--hover-bg-color);\n",
              "    box-shadow: 0 1px 2px rgba(60, 64, 67, 0.3), 0 1px 3px 1px rgba(60, 64, 67, 0.15);\n",
              "    fill: var(--button-hover-fill-color);\n",
              "  }\n",
              "\n",
              "  .colab-df-quickchart-complete:disabled,\n",
              "  .colab-df-quickchart-complete:disabled:hover {\n",
              "    background-color: var(--disabled-bg-color);\n",
              "    fill: var(--disabled-fill-color);\n",
              "    box-shadow: none;\n",
              "  }\n",
              "\n",
              "  .colab-df-spinner {\n",
              "    border: 2px solid var(--fill-color);\n",
              "    border-color: transparent;\n",
              "    border-bottom-color: var(--fill-color);\n",
              "    animation:\n",
              "      spin 1s steps(1) infinite;\n",
              "  }\n",
              "\n",
              "  @keyframes spin {\n",
              "    0% {\n",
              "      border-color: transparent;\n",
              "      border-bottom-color: var(--fill-color);\n",
              "      border-left-color: var(--fill-color);\n",
              "    }\n",
              "    20% {\n",
              "      border-color: transparent;\n",
              "      border-left-color: var(--fill-color);\n",
              "      border-top-color: var(--fill-color);\n",
              "    }\n",
              "    30% {\n",
              "      border-color: transparent;\n",
              "      border-left-color: var(--fill-color);\n",
              "      border-top-color: var(--fill-color);\n",
              "      border-right-color: var(--fill-color);\n",
              "    }\n",
              "    40% {\n",
              "      border-color: transparent;\n",
              "      border-right-color: var(--fill-color);\n",
              "      border-top-color: var(--fill-color);\n",
              "    }\n",
              "    60% {\n",
              "      border-color: transparent;\n",
              "      border-right-color: var(--fill-color);\n",
              "    }\n",
              "    80% {\n",
              "      border-color: transparent;\n",
              "      border-right-color: var(--fill-color);\n",
              "      border-bottom-color: var(--fill-color);\n",
              "    }\n",
              "    90% {\n",
              "      border-color: transparent;\n",
              "      border-bottom-color: var(--fill-color);\n",
              "    }\n",
              "  }\n",
              "</style>\n",
              "\n",
              "  <script>\n",
              "    async function quickchart(key) {\n",
              "      const quickchartButtonEl =\n",
              "        document.querySelector('#' + key + ' button');\n",
              "      quickchartButtonEl.disabled = true;  // To prevent multiple clicks.\n",
              "      quickchartButtonEl.classList.add('colab-df-spinner');\n",
              "      try {\n",
              "        const charts = await google.colab.kernel.invokeFunction(\n",
              "            'suggestCharts', [key], {});\n",
              "      } catch (error) {\n",
              "        console.error('Error during call to suggestCharts:', error);\n",
              "      }\n",
              "      quickchartButtonEl.classList.remove('colab-df-spinner');\n",
              "      quickchartButtonEl.classList.add('colab-df-quickchart-complete');\n",
              "    }\n",
              "    (() => {\n",
              "      let quickchartButtonEl =\n",
              "        document.querySelector('#df-a8c35862-b446-46be-866d-90f59100c5f1 button');\n",
              "      quickchartButtonEl.style.display =\n",
              "        google.colab.kernel.accessAllowed ? 'block' : 'none';\n",
              "    })();\n",
              "  </script>\n",
              "</div>\n",
              "    </div>\n",
              "  </div>\n"
            ]
          },
          "metadata": {},
          "execution_count": 177
        }
      ],
      "source": [
        "df.head()"
      ]
    },
    {
      "cell_type": "markdown",
      "metadata": {
        "id": "1kpfbtndj0jL"
      },
      "source": [
        "Have a look at the data on which to make predictions."
      ]
    },
    {
      "cell_type": "code",
      "execution_count": 178,
      "metadata": {
        "id": "7G75Q1gRj49l",
        "colab": {
          "base_uri": "https://localhost:8080/",
          "height": 237
        },
        "outputId": "69d56b59-de0b-4b0e-ad74-6c76e6fcc775"
      },
      "outputs": [
        {
          "output_type": "execute_result",
          "data": {
            "text/plain": [
              "                                             sentence\n",
              "id                                                   \n",
              "0   Nous dûmes nous excuser des propos que nous eû...\n",
              "1   Vous ne pouvez pas savoir le plaisir que j'ai ...\n",
              "2   Et, paradoxalement, boire froid n'est pas la b...\n",
              "3   Ce n'est pas étonnant, car c'est une saison my...\n",
              "4   Le corps de Golo lui-même, d'une essence aussi..."
            ],
            "text/html": [
              "\n",
              "  <div id=\"df-72840d19-41e2-4bee-b0b5-eb8cc87cc5a2\" class=\"colab-df-container\">\n",
              "    <div>\n",
              "<style scoped>\n",
              "    .dataframe tbody tr th:only-of-type {\n",
              "        vertical-align: middle;\n",
              "    }\n",
              "\n",
              "    .dataframe tbody tr th {\n",
              "        vertical-align: top;\n",
              "    }\n",
              "\n",
              "    .dataframe thead th {\n",
              "        text-align: right;\n",
              "    }\n",
              "</style>\n",
              "<table border=\"1\" class=\"dataframe\">\n",
              "  <thead>\n",
              "    <tr style=\"text-align: right;\">\n",
              "      <th></th>\n",
              "      <th>sentence</th>\n",
              "    </tr>\n",
              "    <tr>\n",
              "      <th>id</th>\n",
              "      <th></th>\n",
              "    </tr>\n",
              "  </thead>\n",
              "  <tbody>\n",
              "    <tr>\n",
              "      <th>0</th>\n",
              "      <td>Nous dûmes nous excuser des propos que nous eû...</td>\n",
              "    </tr>\n",
              "    <tr>\n",
              "      <th>1</th>\n",
              "      <td>Vous ne pouvez pas savoir le plaisir que j'ai ...</td>\n",
              "    </tr>\n",
              "    <tr>\n",
              "      <th>2</th>\n",
              "      <td>Et, paradoxalement, boire froid n'est pas la b...</td>\n",
              "    </tr>\n",
              "    <tr>\n",
              "      <th>3</th>\n",
              "      <td>Ce n'est pas étonnant, car c'est une saison my...</td>\n",
              "    </tr>\n",
              "    <tr>\n",
              "      <th>4</th>\n",
              "      <td>Le corps de Golo lui-même, d'une essence aussi...</td>\n",
              "    </tr>\n",
              "  </tbody>\n",
              "</table>\n",
              "</div>\n",
              "    <div class=\"colab-df-buttons\">\n",
              "\n",
              "  <div class=\"colab-df-container\">\n",
              "    <button class=\"colab-df-convert\" onclick=\"convertToInteractive('df-72840d19-41e2-4bee-b0b5-eb8cc87cc5a2')\"\n",
              "            title=\"Convert this dataframe to an interactive table.\"\n",
              "            style=\"display:none;\">\n",
              "\n",
              "  <svg xmlns=\"http://www.w3.org/2000/svg\" height=\"24px\" viewBox=\"0 -960 960 960\">\n",
              "    <path d=\"M120-120v-720h720v720H120Zm60-500h600v-160H180v160Zm220 220h160v-160H400v160Zm0 220h160v-160H400v160ZM180-400h160v-160H180v160Zm440 0h160v-160H620v160ZM180-180h160v-160H180v160Zm440 0h160v-160H620v160Z\"/>\n",
              "  </svg>\n",
              "    </button>\n",
              "\n",
              "  <style>\n",
              "    .colab-df-container {\n",
              "      display:flex;\n",
              "      gap: 12px;\n",
              "    }\n",
              "\n",
              "    .colab-df-convert {\n",
              "      background-color: #E8F0FE;\n",
              "      border: none;\n",
              "      border-radius: 50%;\n",
              "      cursor: pointer;\n",
              "      display: none;\n",
              "      fill: #1967D2;\n",
              "      height: 32px;\n",
              "      padding: 0 0 0 0;\n",
              "      width: 32px;\n",
              "    }\n",
              "\n",
              "    .colab-df-convert:hover {\n",
              "      background-color: #E2EBFA;\n",
              "      box-shadow: 0px 1px 2px rgba(60, 64, 67, 0.3), 0px 1px 3px 1px rgba(60, 64, 67, 0.15);\n",
              "      fill: #174EA6;\n",
              "    }\n",
              "\n",
              "    .colab-df-buttons div {\n",
              "      margin-bottom: 4px;\n",
              "    }\n",
              "\n",
              "    [theme=dark] .colab-df-convert {\n",
              "      background-color: #3B4455;\n",
              "      fill: #D2E3FC;\n",
              "    }\n",
              "\n",
              "    [theme=dark] .colab-df-convert:hover {\n",
              "      background-color: #434B5C;\n",
              "      box-shadow: 0px 1px 3px 1px rgba(0, 0, 0, 0.15);\n",
              "      filter: drop-shadow(0px 1px 2px rgba(0, 0, 0, 0.3));\n",
              "      fill: #FFFFFF;\n",
              "    }\n",
              "  </style>\n",
              "\n",
              "    <script>\n",
              "      const buttonEl =\n",
              "        document.querySelector('#df-72840d19-41e2-4bee-b0b5-eb8cc87cc5a2 button.colab-df-convert');\n",
              "      buttonEl.style.display =\n",
              "        google.colab.kernel.accessAllowed ? 'block' : 'none';\n",
              "\n",
              "      async function convertToInteractive(key) {\n",
              "        const element = document.querySelector('#df-72840d19-41e2-4bee-b0b5-eb8cc87cc5a2');\n",
              "        const dataTable =\n",
              "          await google.colab.kernel.invokeFunction('convertToInteractive',\n",
              "                                                    [key], {});\n",
              "        if (!dataTable) return;\n",
              "\n",
              "        const docLinkHtml = 'Like what you see? Visit the ' +\n",
              "          '<a target=\"_blank\" href=https://colab.research.google.com/notebooks/data_table.ipynb>data table notebook</a>'\n",
              "          + ' to learn more about interactive tables.';\n",
              "        element.innerHTML = '';\n",
              "        dataTable['output_type'] = 'display_data';\n",
              "        await google.colab.output.renderOutput(dataTable, element);\n",
              "        const docLink = document.createElement('div');\n",
              "        docLink.innerHTML = docLinkHtml;\n",
              "        element.appendChild(docLink);\n",
              "      }\n",
              "    </script>\n",
              "  </div>\n",
              "\n",
              "\n",
              "<div id=\"df-a3f89e2b-b92a-43ad-8c7e-39e5c88d14c9\">\n",
              "  <button class=\"colab-df-quickchart\" onclick=\"quickchart('df-a3f89e2b-b92a-43ad-8c7e-39e5c88d14c9')\"\n",
              "            title=\"Suggest charts\"\n",
              "            style=\"display:none;\">\n",
              "\n",
              "<svg xmlns=\"http://www.w3.org/2000/svg\" height=\"24px\"viewBox=\"0 0 24 24\"\n",
              "     width=\"24px\">\n",
              "    <g>\n",
              "        <path d=\"M19 3H5c-1.1 0-2 .9-2 2v14c0 1.1.9 2 2 2h14c1.1 0 2-.9 2-2V5c0-1.1-.9-2-2-2zM9 17H7v-7h2v7zm4 0h-2V7h2v10zm4 0h-2v-4h2v4z\"/>\n",
              "    </g>\n",
              "</svg>\n",
              "  </button>\n",
              "\n",
              "<style>\n",
              "  .colab-df-quickchart {\n",
              "      --bg-color: #E8F0FE;\n",
              "      --fill-color: #1967D2;\n",
              "      --hover-bg-color: #E2EBFA;\n",
              "      --hover-fill-color: #174EA6;\n",
              "      --disabled-fill-color: #AAA;\n",
              "      --disabled-bg-color: #DDD;\n",
              "  }\n",
              "\n",
              "  [theme=dark] .colab-df-quickchart {\n",
              "      --bg-color: #3B4455;\n",
              "      --fill-color: #D2E3FC;\n",
              "      --hover-bg-color: #434B5C;\n",
              "      --hover-fill-color: #FFFFFF;\n",
              "      --disabled-bg-color: #3B4455;\n",
              "      --disabled-fill-color: #666;\n",
              "  }\n",
              "\n",
              "  .colab-df-quickchart {\n",
              "    background-color: var(--bg-color);\n",
              "    border: none;\n",
              "    border-radius: 50%;\n",
              "    cursor: pointer;\n",
              "    display: none;\n",
              "    fill: var(--fill-color);\n",
              "    height: 32px;\n",
              "    padding: 0;\n",
              "    width: 32px;\n",
              "  }\n",
              "\n",
              "  .colab-df-quickchart:hover {\n",
              "    background-color: var(--hover-bg-color);\n",
              "    box-shadow: 0 1px 2px rgba(60, 64, 67, 0.3), 0 1px 3px 1px rgba(60, 64, 67, 0.15);\n",
              "    fill: var(--button-hover-fill-color);\n",
              "  }\n",
              "\n",
              "  .colab-df-quickchart-complete:disabled,\n",
              "  .colab-df-quickchart-complete:disabled:hover {\n",
              "    background-color: var(--disabled-bg-color);\n",
              "    fill: var(--disabled-fill-color);\n",
              "    box-shadow: none;\n",
              "  }\n",
              "\n",
              "  .colab-df-spinner {\n",
              "    border: 2px solid var(--fill-color);\n",
              "    border-color: transparent;\n",
              "    border-bottom-color: var(--fill-color);\n",
              "    animation:\n",
              "      spin 1s steps(1) infinite;\n",
              "  }\n",
              "\n",
              "  @keyframes spin {\n",
              "    0% {\n",
              "      border-color: transparent;\n",
              "      border-bottom-color: var(--fill-color);\n",
              "      border-left-color: var(--fill-color);\n",
              "    }\n",
              "    20% {\n",
              "      border-color: transparent;\n",
              "      border-left-color: var(--fill-color);\n",
              "      border-top-color: var(--fill-color);\n",
              "    }\n",
              "    30% {\n",
              "      border-color: transparent;\n",
              "      border-left-color: var(--fill-color);\n",
              "      border-top-color: var(--fill-color);\n",
              "      border-right-color: var(--fill-color);\n",
              "    }\n",
              "    40% {\n",
              "      border-color: transparent;\n",
              "      border-right-color: var(--fill-color);\n",
              "      border-top-color: var(--fill-color);\n",
              "    }\n",
              "    60% {\n",
              "      border-color: transparent;\n",
              "      border-right-color: var(--fill-color);\n",
              "    }\n",
              "    80% {\n",
              "      border-color: transparent;\n",
              "      border-right-color: var(--fill-color);\n",
              "      border-bottom-color: var(--fill-color);\n",
              "    }\n",
              "    90% {\n",
              "      border-color: transparent;\n",
              "      border-bottom-color: var(--fill-color);\n",
              "    }\n",
              "  }\n",
              "</style>\n",
              "\n",
              "  <script>\n",
              "    async function quickchart(key) {\n",
              "      const quickchartButtonEl =\n",
              "        document.querySelector('#' + key + ' button');\n",
              "      quickchartButtonEl.disabled = true;  // To prevent multiple clicks.\n",
              "      quickchartButtonEl.classList.add('colab-df-spinner');\n",
              "      try {\n",
              "        const charts = await google.colab.kernel.invokeFunction(\n",
              "            'suggestCharts', [key], {});\n",
              "      } catch (error) {\n",
              "        console.error('Error during call to suggestCharts:', error);\n",
              "      }\n",
              "      quickchartButtonEl.classList.remove('colab-df-spinner');\n",
              "      quickchartButtonEl.classList.add('colab-df-quickchart-complete');\n",
              "    }\n",
              "    (() => {\n",
              "      let quickchartButtonEl =\n",
              "        document.querySelector('#df-a3f89e2b-b92a-43ad-8c7e-39e5c88d14c9 button');\n",
              "      quickchartButtonEl.style.display =\n",
              "        google.colab.kernel.accessAllowed ? 'block' : 'none';\n",
              "    })();\n",
              "  </script>\n",
              "</div>\n",
              "    </div>\n",
              "  </div>\n"
            ]
          },
          "metadata": {},
          "execution_count": 178
        }
      ],
      "source": [
        "df_pred = pd.read_csv('unlabelled_test_data.csv', index_col = 'id')\n",
        "df_pred.head()"
      ]
    },
    {
      "cell_type": "markdown",
      "source": [
        "And this is the format for your submissions.\n",
        "\n"
      ],
      "metadata": {
        "id": "n4FfmcZLnDQ7"
      }
    },
    {
      "cell_type": "code",
      "source": [
        "df_example_submission = pd.read_csv('sample_submission.csv', index_col = 'id')\n",
        "df_example_submission.head()\n"
      ],
      "metadata": {
        "colab": {
          "base_uri": "https://localhost:8080/",
          "height": 237
        },
        "id": "cnI90ZIenFDG",
        "outputId": "25588ecd-d116-475b-e006-0aa92d4a1c91"
      },
      "execution_count": 179,
      "outputs": [
        {
          "output_type": "execute_result",
          "data": {
            "text/plain": [
              "   difficulty\n",
              "id           \n",
              "0          A1\n",
              "1          A1\n",
              "2          A1\n",
              "3          A1\n",
              "4          A1"
            ],
            "text/html": [
              "\n",
              "  <div id=\"df-41eaab76-b82f-4c37-a81e-b9d14695fe4b\" class=\"colab-df-container\">\n",
              "    <div>\n",
              "<style scoped>\n",
              "    .dataframe tbody tr th:only-of-type {\n",
              "        vertical-align: middle;\n",
              "    }\n",
              "\n",
              "    .dataframe tbody tr th {\n",
              "        vertical-align: top;\n",
              "    }\n",
              "\n",
              "    .dataframe thead th {\n",
              "        text-align: right;\n",
              "    }\n",
              "</style>\n",
              "<table border=\"1\" class=\"dataframe\">\n",
              "  <thead>\n",
              "    <tr style=\"text-align: right;\">\n",
              "      <th></th>\n",
              "      <th>difficulty</th>\n",
              "    </tr>\n",
              "    <tr>\n",
              "      <th>id</th>\n",
              "      <th></th>\n",
              "    </tr>\n",
              "  </thead>\n",
              "  <tbody>\n",
              "    <tr>\n",
              "      <th>0</th>\n",
              "      <td>A1</td>\n",
              "    </tr>\n",
              "    <tr>\n",
              "      <th>1</th>\n",
              "      <td>A1</td>\n",
              "    </tr>\n",
              "    <tr>\n",
              "      <th>2</th>\n",
              "      <td>A1</td>\n",
              "    </tr>\n",
              "    <tr>\n",
              "      <th>3</th>\n",
              "      <td>A1</td>\n",
              "    </tr>\n",
              "    <tr>\n",
              "      <th>4</th>\n",
              "      <td>A1</td>\n",
              "    </tr>\n",
              "  </tbody>\n",
              "</table>\n",
              "</div>\n",
              "    <div class=\"colab-df-buttons\">\n",
              "\n",
              "  <div class=\"colab-df-container\">\n",
              "    <button class=\"colab-df-convert\" onclick=\"convertToInteractive('df-41eaab76-b82f-4c37-a81e-b9d14695fe4b')\"\n",
              "            title=\"Convert this dataframe to an interactive table.\"\n",
              "            style=\"display:none;\">\n",
              "\n",
              "  <svg xmlns=\"http://www.w3.org/2000/svg\" height=\"24px\" viewBox=\"0 -960 960 960\">\n",
              "    <path d=\"M120-120v-720h720v720H120Zm60-500h600v-160H180v160Zm220 220h160v-160H400v160Zm0 220h160v-160H400v160ZM180-400h160v-160H180v160Zm440 0h160v-160H620v160ZM180-180h160v-160H180v160Zm440 0h160v-160H620v160Z\"/>\n",
              "  </svg>\n",
              "    </button>\n",
              "\n",
              "  <style>\n",
              "    .colab-df-container {\n",
              "      display:flex;\n",
              "      gap: 12px;\n",
              "    }\n",
              "\n",
              "    .colab-df-convert {\n",
              "      background-color: #E8F0FE;\n",
              "      border: none;\n",
              "      border-radius: 50%;\n",
              "      cursor: pointer;\n",
              "      display: none;\n",
              "      fill: #1967D2;\n",
              "      height: 32px;\n",
              "      padding: 0 0 0 0;\n",
              "      width: 32px;\n",
              "    }\n",
              "\n",
              "    .colab-df-convert:hover {\n",
              "      background-color: #E2EBFA;\n",
              "      box-shadow: 0px 1px 2px rgba(60, 64, 67, 0.3), 0px 1px 3px 1px rgba(60, 64, 67, 0.15);\n",
              "      fill: #174EA6;\n",
              "    }\n",
              "\n",
              "    .colab-df-buttons div {\n",
              "      margin-bottom: 4px;\n",
              "    }\n",
              "\n",
              "    [theme=dark] .colab-df-convert {\n",
              "      background-color: #3B4455;\n",
              "      fill: #D2E3FC;\n",
              "    }\n",
              "\n",
              "    [theme=dark] .colab-df-convert:hover {\n",
              "      background-color: #434B5C;\n",
              "      box-shadow: 0px 1px 3px 1px rgba(0, 0, 0, 0.15);\n",
              "      filter: drop-shadow(0px 1px 2px rgba(0, 0, 0, 0.3));\n",
              "      fill: #FFFFFF;\n",
              "    }\n",
              "  </style>\n",
              "\n",
              "    <script>\n",
              "      const buttonEl =\n",
              "        document.querySelector('#df-41eaab76-b82f-4c37-a81e-b9d14695fe4b button.colab-df-convert');\n",
              "      buttonEl.style.display =\n",
              "        google.colab.kernel.accessAllowed ? 'block' : 'none';\n",
              "\n",
              "      async function convertToInteractive(key) {\n",
              "        const element = document.querySelector('#df-41eaab76-b82f-4c37-a81e-b9d14695fe4b');\n",
              "        const dataTable =\n",
              "          await google.colab.kernel.invokeFunction('convertToInteractive',\n",
              "                                                    [key], {});\n",
              "        if (!dataTable) return;\n",
              "\n",
              "        const docLinkHtml = 'Like what you see? Visit the ' +\n",
              "          '<a target=\"_blank\" href=https://colab.research.google.com/notebooks/data_table.ipynb>data table notebook</a>'\n",
              "          + ' to learn more about interactive tables.';\n",
              "        element.innerHTML = '';\n",
              "        dataTable['output_type'] = 'display_data';\n",
              "        await google.colab.output.renderOutput(dataTable, element);\n",
              "        const docLink = document.createElement('div');\n",
              "        docLink.innerHTML = docLinkHtml;\n",
              "        element.appendChild(docLink);\n",
              "      }\n",
              "    </script>\n",
              "  </div>\n",
              "\n",
              "\n",
              "<div id=\"df-b966152e-3b60-4106-9cc6-e06116839198\">\n",
              "  <button class=\"colab-df-quickchart\" onclick=\"quickchart('df-b966152e-3b60-4106-9cc6-e06116839198')\"\n",
              "            title=\"Suggest charts\"\n",
              "            style=\"display:none;\">\n",
              "\n",
              "<svg xmlns=\"http://www.w3.org/2000/svg\" height=\"24px\"viewBox=\"0 0 24 24\"\n",
              "     width=\"24px\">\n",
              "    <g>\n",
              "        <path d=\"M19 3H5c-1.1 0-2 .9-2 2v14c0 1.1.9 2 2 2h14c1.1 0 2-.9 2-2V5c0-1.1-.9-2-2-2zM9 17H7v-7h2v7zm4 0h-2V7h2v10zm4 0h-2v-4h2v4z\"/>\n",
              "    </g>\n",
              "</svg>\n",
              "  </button>\n",
              "\n",
              "<style>\n",
              "  .colab-df-quickchart {\n",
              "      --bg-color: #E8F0FE;\n",
              "      --fill-color: #1967D2;\n",
              "      --hover-bg-color: #E2EBFA;\n",
              "      --hover-fill-color: #174EA6;\n",
              "      --disabled-fill-color: #AAA;\n",
              "      --disabled-bg-color: #DDD;\n",
              "  }\n",
              "\n",
              "  [theme=dark] .colab-df-quickchart {\n",
              "      --bg-color: #3B4455;\n",
              "      --fill-color: #D2E3FC;\n",
              "      --hover-bg-color: #434B5C;\n",
              "      --hover-fill-color: #FFFFFF;\n",
              "      --disabled-bg-color: #3B4455;\n",
              "      --disabled-fill-color: #666;\n",
              "  }\n",
              "\n",
              "  .colab-df-quickchart {\n",
              "    background-color: var(--bg-color);\n",
              "    border: none;\n",
              "    border-radius: 50%;\n",
              "    cursor: pointer;\n",
              "    display: none;\n",
              "    fill: var(--fill-color);\n",
              "    height: 32px;\n",
              "    padding: 0;\n",
              "    width: 32px;\n",
              "  }\n",
              "\n",
              "  .colab-df-quickchart:hover {\n",
              "    background-color: var(--hover-bg-color);\n",
              "    box-shadow: 0 1px 2px rgba(60, 64, 67, 0.3), 0 1px 3px 1px rgba(60, 64, 67, 0.15);\n",
              "    fill: var(--button-hover-fill-color);\n",
              "  }\n",
              "\n",
              "  .colab-df-quickchart-complete:disabled,\n",
              "  .colab-df-quickchart-complete:disabled:hover {\n",
              "    background-color: var(--disabled-bg-color);\n",
              "    fill: var(--disabled-fill-color);\n",
              "    box-shadow: none;\n",
              "  }\n",
              "\n",
              "  .colab-df-spinner {\n",
              "    border: 2px solid var(--fill-color);\n",
              "    border-color: transparent;\n",
              "    border-bottom-color: var(--fill-color);\n",
              "    animation:\n",
              "      spin 1s steps(1) infinite;\n",
              "  }\n",
              "\n",
              "  @keyframes spin {\n",
              "    0% {\n",
              "      border-color: transparent;\n",
              "      border-bottom-color: var(--fill-color);\n",
              "      border-left-color: var(--fill-color);\n",
              "    }\n",
              "    20% {\n",
              "      border-color: transparent;\n",
              "      border-left-color: var(--fill-color);\n",
              "      border-top-color: var(--fill-color);\n",
              "    }\n",
              "    30% {\n",
              "      border-color: transparent;\n",
              "      border-left-color: var(--fill-color);\n",
              "      border-top-color: var(--fill-color);\n",
              "      border-right-color: var(--fill-color);\n",
              "    }\n",
              "    40% {\n",
              "      border-color: transparent;\n",
              "      border-right-color: var(--fill-color);\n",
              "      border-top-color: var(--fill-color);\n",
              "    }\n",
              "    60% {\n",
              "      border-color: transparent;\n",
              "      border-right-color: var(--fill-color);\n",
              "    }\n",
              "    80% {\n",
              "      border-color: transparent;\n",
              "      border-right-color: var(--fill-color);\n",
              "      border-bottom-color: var(--fill-color);\n",
              "    }\n",
              "    90% {\n",
              "      border-color: transparent;\n",
              "      border-bottom-color: var(--fill-color);\n",
              "    }\n",
              "  }\n",
              "</style>\n",
              "\n",
              "  <script>\n",
              "    async function quickchart(key) {\n",
              "      const quickchartButtonEl =\n",
              "        document.querySelector('#' + key + ' button');\n",
              "      quickchartButtonEl.disabled = true;  // To prevent multiple clicks.\n",
              "      quickchartButtonEl.classList.add('colab-df-spinner');\n",
              "      try {\n",
              "        const charts = await google.colab.kernel.invokeFunction(\n",
              "            'suggestCharts', [key], {});\n",
              "      } catch (error) {\n",
              "        console.error('Error during call to suggestCharts:', error);\n",
              "      }\n",
              "      quickchartButtonEl.classList.remove('colab-df-spinner');\n",
              "      quickchartButtonEl.classList.add('colab-df-quickchart-complete');\n",
              "    }\n",
              "    (() => {\n",
              "      let quickchartButtonEl =\n",
              "        document.querySelector('#df-b966152e-3b60-4106-9cc6-e06116839198 button');\n",
              "      quickchartButtonEl.style.display =\n",
              "        google.colab.kernel.accessAllowed ? 'block' : 'none';\n",
              "    })();\n",
              "  </script>\n",
              "</div>\n",
              "    </div>\n",
              "  </div>\n"
            ]
          },
          "metadata": {},
          "execution_count": 179
        }
      ]
    },
    {
      "cell_type": "code",
      "source": [
        "%matplotlib inline\n",
        "import numpy as np\n",
        "import matplotlib.pyplot as plt\n",
        "import pandas as pd\n",
        "import seaborn as sns\n",
        "import spacy\n",
        "from spacy import displacy\n",
        "sns.set_style(\"whitegrid\")\n",
        "\n",
        "from sklearn.preprocessing import OrdinalEncoder, OneHotEncoder, LabelEncoder\n",
        "from sklearn.linear_model import LogisticRegression, LogisticRegressionCV\n",
        "from sklearn.model_selection import train_test_split\n",
        "from sklearn.metrics import confusion_matrix, accuracy_score, precision_score, recall_score, f1_score\n",
        "from sklearn. preprocessing import StandardScaler\n",
        "from sklearn.feature_extraction.text import CountVectorizer, TfidfVectorizer\n",
        "from sklearn.pipeline import Pipeline"
      ],
      "metadata": {
        "id": "hWcXVQLNVya_"
      },
      "execution_count": 180,
      "outputs": []
    },
    {
      "cell_type": "code",
      "source": [
        "def evaluating(ytest, ypred):\n",
        "  precision = precision_score(ytest, ypred, average='macro')\n",
        "  recall = recall_score(ytest, ypred, average='macro')\n",
        "  f1 = f1_score(ytest, ypred, average='macro')\n",
        "  accuracy = accuracy_score(ytest, ypred)\n",
        "  confusion = confusion_matrix(ytest, ypred)\n",
        "  sns.heatmap(confusion, annot=True, cmap='Blues', fmt='.4g')\n",
        "  plt.ylabel('True labels')\n",
        "  plt.xlabel('Predicted labels')\n",
        "  plt.title('Confusion Matrix')\n",
        "  print('Accuracy score: {:0.4f}'.format(accuracy))\n",
        "  print('Precision: {:0.4f}'.format(precision))\n",
        "  print('Recall: {:0.4f}'.format(recall))\n",
        "  print('F1 Score: {:0.4f}'.format(f1))\n",
        "  return precision, recall, f1, accuracy\n"
      ],
      "metadata": {
        "id": "cEmuMC43sZrO"
      },
      "execution_count": 181,
      "outputs": []
    },
    {
      "cell_type": "code",
      "source": [
        "X = df['sentence']\n",
        "y = df['difficulty']\n",
        "\n",
        "#We convert the levels from strings to integers\n",
        "level_mapping = {'A1': 0, 'A2': 1, 'B1': 2, 'B2': 3, 'C1': 4, 'C2': 5}\n",
        "y = y.replace(level_mapping)"
      ],
      "metadata": {
        "id": "eatPp67Ote3B"
      },
      "execution_count": 182,
      "outputs": []
    },
    {
      "cell_type": "code",
      "source": [
        "X_train, X_test, y_train, y_test = train_test_split(X, y, random_state=0, test_size=0.2)"
      ],
      "metadata": {
        "id": "32dWIeBcsUM4"
      },
      "execution_count": 183,
      "outputs": []
    },
    {
      "cell_type": "code",
      "source": [
        "print(y.head())"
      ],
      "metadata": {
        "colab": {
          "base_uri": "https://localhost:8080/"
        },
        "id": "H_TZAnBC2_l8",
        "outputId": "5e0b804e-7515-4ac3-a04c-8673feed5b40"
      },
      "execution_count": 184,
      "outputs": [
        {
          "output_type": "stream",
          "name": "stdout",
          "text": [
            "id\n",
            "0    4\n",
            "1    0\n",
            "2    0\n",
            "3    0\n",
            "4    2\n",
            "Name: difficulty, dtype: int64\n"
          ]
        }
      ]
    },
    {
      "cell_type": "code",
      "source": [
        "to_predict = pd.read_csv('unlabelled_test_data.csv')\n",
        "to_predict_text=to_predict['sentence']"
      ],
      "metadata": {
        "id": "PE9JE0Mp3uxi"
      },
      "execution_count": 185,
      "outputs": []
    },
    {
      "cell_type": "markdown",
      "source": [
        "# **Neural network**"
      ],
      "metadata": {
        "id": "h5TjOMoF2ajL"
      }
    },
    {
      "cell_type": "code",
      "source": [
        "import torch\n",
        "import torch.nn as nn\n",
        "import torch.optim as optim\n",
        "import matplotlib.pyplot as plt\n",
        "\n",
        "# Vectorize X data\n",
        "tfidf_vectorizer = TfidfVectorizer()#max_features=10000)  # You can adjust max_features\n",
        "train_x_vectors = tfidf_vectorizer.fit_transform(X_train).toarray()\n",
        "test_x_vectors = tfidf_vectorizer.transform(X_test).toarray()\n",
        "to_predict_text_vectors= tfidf_vectorizer.transform(to_predict_text).toarray()\n",
        "\n",
        "# Convert to PyTorch tensors\n",
        "train_x = torch.tensor(train_x_vectors, dtype=torch.float)\n",
        "train_y = torch.tensor(y_train.values, dtype=torch.long)\n",
        "test_x = torch.tensor(test_x_vectors, dtype=torch.float)\n",
        "test_y = torch.tensor(y_test.values, dtype=torch.long)\n",
        "tensor_to_predict = torch.tensor(to_predict_text_vectors, dtype=torch.float)\n",
        "\n"
      ],
      "metadata": {
        "id": "6t3Gtif-hde_"
      },
      "execution_count": 186,
      "outputs": []
    },
    {
      "cell_type": "code",
      "source": [
        "\n",
        "# # Define the network\n",
        "# class Net(nn.Module):\n",
        "#     def __init__(self, D_in, H1, D_out):\n",
        "#         super(Net, self).__init__()\n",
        "#         self.linear1 = nn.Linear(D_in, H1)\n",
        "#         self.linear2 = nn.Linear(H1, D_out)\n",
        "#         self.activation = nn.ReLU()\n",
        "\n",
        "#     def forward(self, x):\n",
        "#         x = self.activation(self.linear1(x))\n",
        "#         x = self.linear2(x)\n",
        "#         return x\n",
        "\n",
        "# # Dimensions\n",
        "# D_in, H1, D_out = train_x.shape[1], 10, 6  # 6 language levels\n",
        "\n",
        "# # Model instance\n",
        "# model = Net(D_in, H1, D_out)\n",
        "\n",
        "# # Loss and optimizer\n",
        "# criterion = nn.CrossEntropyLoss()\n",
        "# optimizer = optim.SGD(model.parameters(), lr=5)\n",
        "\n",
        "# # Training loop\n",
        "# losses = []\n",
        "# losses_test = []\n",
        "\n",
        "# for t in range(20):  # Number of iterations\n",
        "#     y_pred = model(train_x)\n",
        "#     loss = criterion(y_pred, train_y)\n",
        "#     print(t, loss.item())\n",
        "#     losses.append(loss.item())\n",
        "\n",
        "#     optimizer.zero_grad()\n",
        "#     loss.backward()\n",
        "#     optimizer.step()\n",
        "\n",
        "#     with torch.no_grad():\n",
        "#         losses_test.append(criterion(model(test_x), test_y).item())\n",
        "\n",
        "# # Visualizing the training and test loss\n",
        "# plt.figure(figsize=(6, 4))\n",
        "# plt.plot(losses, label=\"Training loss\")\n",
        "# plt.plot(losses_test, label=\"Test loss\")\n",
        "# plt.title('Evolution of training and test loss - 500 neurons')\n",
        "# plt.legend()\n",
        "# plt.show()\n"
      ],
      "metadata": {
        "id": "gTrE_4ZW229Y"
      },
      "execution_count": 187,
      "outputs": []
    },
    {
      "cell_type": "code",
      "source": [
        "import torch\n",
        "import torch.nn as nn\n",
        "import torch.optim as optim\n",
        "import torch.nn.functional as F\n",
        "import matplotlib.pyplot as plt\n",
        "\n",
        "# Neural network definition\n",
        "class Net(nn.Module):\n",
        "    def __init__(self, D_in, H, D_out=6):  # 6 output units for 6 classes\n",
        "        super(Net, self).__init__()\n",
        "        self.linear1 = nn.Linear(D_in, H)\n",
        "        self.linear2 = nn.Linear(H, D_out)\n",
        "        self.activation = nn.ReLU()\n",
        "\n",
        "    def forward(self, x):\n",
        "        x = self.activation(self.linear1(x))\n",
        "        x = self.linear2(x)\n",
        "        return F.log_softmax(x, dim=1)  # Log Softmax for use with NLLLoss\n",
        "\n",
        "# Model instance\n",
        "D_in = train_x.shape[1]  # Number of features\n",
        "H = 5  # Number of neurons in the hidden layer\n",
        "model = Net(D_in, H)\n",
        "\n",
        "# Loss and optimizer\n",
        "criterion = nn.NLLLoss()  # Negative Log-Likelihood Loss for classification\n",
        "optimizer = optim.SGD(model.parameters(), lr=.5)\n",
        "\n",
        "# Training loop\n",
        "losses = []\n",
        "losses_test = []\n",
        "for t in range(20000):  # Number of iterations\n",
        "    model.train()\n",
        "    y_pred = model(train_x)\n",
        "\n",
        "    loss = criterion(y_pred, train_y)  # train_y should be class indices\n",
        "\n",
        "    losses.append(loss.item())\n",
        "    print(t, loss.item())\n",
        "\n",
        "    optimizer.zero_grad()\n",
        "    loss.backward()\n",
        "    optimizer.step()\n",
        "\n",
        "    # Optional: Calculate and store test loss here if desired\n",
        "\n",
        "# Making predictions\n",
        "model.eval()\n",
        "with torch.no_grad():\n",
        "    test_pred = model(test_x)\n",
        "    _, predicted_classes = torch.max(test_pred, 1)  # Get the class with the highest probability\n",
        "\n",
        "\n",
        "# predicted_classes now contains the class predictions\n",
        "# Visualizing the training (and optionally test) loss\n",
        "plt.figure(figsize=(6, 4))\n",
        "plt.plot(losses, label=\"Training loss\")\n",
        "# Uncomment if you calculated test losses\n",
        "# plt.plot(losses_test, label=\"Test loss\")\n",
        "plt.title('Evolution of training loss - 10000 neurons')\n",
        "plt.legend()\n",
        "plt.show()\n"
      ],
      "metadata": {
        "colab": {
          "base_uri": "https://localhost:8080/",
          "height": 841
        },
        "id": "pDDDrXUNHcJo",
        "outputId": "40c6b68d-0402-4731-9dcb-d111ae5d2061"
      },
      "execution_count": 193,
      "outputs": [
        {
          "output_type": "stream",
          "name": "stdout",
          "text": [
            "0 1.79836106300354\n",
            "1 1.7972931861877441\n",
            "2 1.7963879108428955\n",
            "3 1.7956010103225708\n",
            "4 1.7949130535125732\n",
            "5 1.7943100929260254\n",
            "6 1.7937750816345215\n",
            "7 1.793306827545166\n",
            "8 1.7929027080535889\n",
            "9 1.7925509214401245\n",
            "10 1.792243480682373\n",
            "11 1.7919729948043823\n",
            "12 1.7917298078536987\n",
            "13 1.791503667831421\n",
            "14 1.7912871837615967\n",
            "15 1.7910668849945068\n",
            "16 1.7908700704574585\n",
            "17 1.7906872034072876\n",
            "18 1.7905148267745972\n",
            "19 1.7903504371643066\n",
            "20 1.790193796157837\n",
            "21 1.790042519569397\n",
            "22 1.7898962497711182\n",
            "23 1.7897531986236572\n",
            "24 1.789613962173462\n",
            "25 1.7894772291183472\n"
          ]
        },
        {
          "output_type": "error",
          "ename": "KeyboardInterrupt",
          "evalue": "ignored",
          "traceback": [
            "\u001b[0;31m---------------------------------------------------------------------------\u001b[0m",
            "\u001b[0;31mKeyboardInterrupt\u001b[0m                         Traceback (most recent call last)",
            "\u001b[0;32m<ipython-input-193-967ed6ca2caa>\u001b[0m in \u001b[0;36m<cell line: 32>\u001b[0;34m()\u001b[0m\n\u001b[1;32m     32\u001b[0m \u001b[0;32mfor\u001b[0m \u001b[0mt\u001b[0m \u001b[0;32min\u001b[0m \u001b[0mrange\u001b[0m\u001b[0;34m(\u001b[0m\u001b[0;36m20000\u001b[0m\u001b[0;34m)\u001b[0m\u001b[0;34m:\u001b[0m  \u001b[0;31m# Number of iterations\u001b[0m\u001b[0;34m\u001b[0m\u001b[0;34m\u001b[0m\u001b[0m\n\u001b[1;32m     33\u001b[0m     \u001b[0mmodel\u001b[0m\u001b[0;34m.\u001b[0m\u001b[0mtrain\u001b[0m\u001b[0;34m(\u001b[0m\u001b[0;34m)\u001b[0m\u001b[0;34m\u001b[0m\u001b[0;34m\u001b[0m\u001b[0m\n\u001b[0;32m---> 34\u001b[0;31m     \u001b[0my_pred\u001b[0m \u001b[0;34m=\u001b[0m \u001b[0mmodel\u001b[0m\u001b[0;34m(\u001b[0m\u001b[0mtrain_x\u001b[0m\u001b[0;34m)\u001b[0m\u001b[0;34m\u001b[0m\u001b[0;34m\u001b[0m\u001b[0m\n\u001b[0m\u001b[1;32m     35\u001b[0m \u001b[0;34m\u001b[0m\u001b[0m\n\u001b[1;32m     36\u001b[0m     \u001b[0mloss\u001b[0m \u001b[0;34m=\u001b[0m \u001b[0mcriterion\u001b[0m\u001b[0;34m(\u001b[0m\u001b[0my_pred\u001b[0m\u001b[0;34m,\u001b[0m \u001b[0mtrain_y\u001b[0m\u001b[0;34m)\u001b[0m  \u001b[0;31m# train_y should be class indices\u001b[0m\u001b[0;34m\u001b[0m\u001b[0;34m\u001b[0m\u001b[0m\n",
            "\u001b[0;32m/usr/local/lib/python3.10/dist-packages/torch/nn/modules/module.py\u001b[0m in \u001b[0;36m_wrapped_call_impl\u001b[0;34m(self, *args, **kwargs)\u001b[0m\n\u001b[1;32m   1516\u001b[0m             \u001b[0;32mreturn\u001b[0m \u001b[0mself\u001b[0m\u001b[0;34m.\u001b[0m\u001b[0m_compiled_call_impl\u001b[0m\u001b[0;34m(\u001b[0m\u001b[0;34m*\u001b[0m\u001b[0margs\u001b[0m\u001b[0;34m,\u001b[0m \u001b[0;34m**\u001b[0m\u001b[0mkwargs\u001b[0m\u001b[0;34m)\u001b[0m  \u001b[0;31m# type: ignore[misc]\u001b[0m\u001b[0;34m\u001b[0m\u001b[0;34m\u001b[0m\u001b[0m\n\u001b[1;32m   1517\u001b[0m         \u001b[0;32melse\u001b[0m\u001b[0;34m:\u001b[0m\u001b[0;34m\u001b[0m\u001b[0;34m\u001b[0m\u001b[0m\n\u001b[0;32m-> 1518\u001b[0;31m             \u001b[0;32mreturn\u001b[0m \u001b[0mself\u001b[0m\u001b[0;34m.\u001b[0m\u001b[0m_call_impl\u001b[0m\u001b[0;34m(\u001b[0m\u001b[0;34m*\u001b[0m\u001b[0margs\u001b[0m\u001b[0;34m,\u001b[0m \u001b[0;34m**\u001b[0m\u001b[0mkwargs\u001b[0m\u001b[0;34m)\u001b[0m\u001b[0;34m\u001b[0m\u001b[0;34m\u001b[0m\u001b[0m\n\u001b[0m\u001b[1;32m   1519\u001b[0m \u001b[0;34m\u001b[0m\u001b[0m\n\u001b[1;32m   1520\u001b[0m     \u001b[0;32mdef\u001b[0m \u001b[0m_call_impl\u001b[0m\u001b[0;34m(\u001b[0m\u001b[0mself\u001b[0m\u001b[0;34m,\u001b[0m \u001b[0;34m*\u001b[0m\u001b[0margs\u001b[0m\u001b[0;34m,\u001b[0m \u001b[0;34m**\u001b[0m\u001b[0mkwargs\u001b[0m\u001b[0;34m)\u001b[0m\u001b[0;34m:\u001b[0m\u001b[0;34m\u001b[0m\u001b[0;34m\u001b[0m\u001b[0m\n",
            "\u001b[0;32m/usr/local/lib/python3.10/dist-packages/torch/nn/modules/module.py\u001b[0m in \u001b[0;36m_call_impl\u001b[0;34m(self, *args, **kwargs)\u001b[0m\n\u001b[1;32m   1525\u001b[0m                 \u001b[0;32mor\u001b[0m \u001b[0m_global_backward_pre_hooks\u001b[0m \u001b[0;32mor\u001b[0m \u001b[0m_global_backward_hooks\u001b[0m\u001b[0;34m\u001b[0m\u001b[0;34m\u001b[0m\u001b[0m\n\u001b[1;32m   1526\u001b[0m                 or _global_forward_hooks or _global_forward_pre_hooks):\n\u001b[0;32m-> 1527\u001b[0;31m             \u001b[0;32mreturn\u001b[0m \u001b[0mforward_call\u001b[0m\u001b[0;34m(\u001b[0m\u001b[0;34m*\u001b[0m\u001b[0margs\u001b[0m\u001b[0;34m,\u001b[0m \u001b[0;34m**\u001b[0m\u001b[0mkwargs\u001b[0m\u001b[0;34m)\u001b[0m\u001b[0;34m\u001b[0m\u001b[0;34m\u001b[0m\u001b[0m\n\u001b[0m\u001b[1;32m   1528\u001b[0m \u001b[0;34m\u001b[0m\u001b[0m\n\u001b[1;32m   1529\u001b[0m         \u001b[0;32mtry\u001b[0m\u001b[0;34m:\u001b[0m\u001b[0;34m\u001b[0m\u001b[0;34m\u001b[0m\u001b[0m\n",
            "\u001b[0;32m<ipython-input-193-967ed6ca2caa>\u001b[0m in \u001b[0;36mforward\u001b[0;34m(self, x)\u001b[0m\n\u001b[1;32m     14\u001b[0m \u001b[0;34m\u001b[0m\u001b[0m\n\u001b[1;32m     15\u001b[0m     \u001b[0;32mdef\u001b[0m \u001b[0mforward\u001b[0m\u001b[0;34m(\u001b[0m\u001b[0mself\u001b[0m\u001b[0;34m,\u001b[0m \u001b[0mx\u001b[0m\u001b[0;34m)\u001b[0m\u001b[0;34m:\u001b[0m\u001b[0;34m\u001b[0m\u001b[0;34m\u001b[0m\u001b[0m\n\u001b[0;32m---> 16\u001b[0;31m         \u001b[0mx\u001b[0m \u001b[0;34m=\u001b[0m \u001b[0mself\u001b[0m\u001b[0;34m.\u001b[0m\u001b[0mactivation\u001b[0m\u001b[0;34m(\u001b[0m\u001b[0mself\u001b[0m\u001b[0;34m.\u001b[0m\u001b[0mlinear1\u001b[0m\u001b[0;34m(\u001b[0m\u001b[0mx\u001b[0m\u001b[0;34m)\u001b[0m\u001b[0;34m)\u001b[0m\u001b[0;34m\u001b[0m\u001b[0;34m\u001b[0m\u001b[0m\n\u001b[0m\u001b[1;32m     17\u001b[0m         \u001b[0mx\u001b[0m \u001b[0;34m=\u001b[0m \u001b[0mself\u001b[0m\u001b[0;34m.\u001b[0m\u001b[0mlinear2\u001b[0m\u001b[0;34m(\u001b[0m\u001b[0mx\u001b[0m\u001b[0;34m)\u001b[0m\u001b[0;34m\u001b[0m\u001b[0;34m\u001b[0m\u001b[0m\n\u001b[1;32m     18\u001b[0m         \u001b[0;32mreturn\u001b[0m \u001b[0mF\u001b[0m\u001b[0;34m.\u001b[0m\u001b[0mlog_softmax\u001b[0m\u001b[0;34m(\u001b[0m\u001b[0mx\u001b[0m\u001b[0;34m,\u001b[0m \u001b[0mdim\u001b[0m\u001b[0;34m=\u001b[0m\u001b[0;36m1\u001b[0m\u001b[0;34m)\u001b[0m  \u001b[0;31m# Log Softmax for use with NLLLoss\u001b[0m\u001b[0;34m\u001b[0m\u001b[0;34m\u001b[0m\u001b[0m\n",
            "\u001b[0;32m/usr/local/lib/python3.10/dist-packages/torch/nn/modules/module.py\u001b[0m in \u001b[0;36m_wrapped_call_impl\u001b[0;34m(self, *args, **kwargs)\u001b[0m\n\u001b[1;32m   1516\u001b[0m             \u001b[0;32mreturn\u001b[0m \u001b[0mself\u001b[0m\u001b[0;34m.\u001b[0m\u001b[0m_compiled_call_impl\u001b[0m\u001b[0;34m(\u001b[0m\u001b[0;34m*\u001b[0m\u001b[0margs\u001b[0m\u001b[0;34m,\u001b[0m \u001b[0;34m**\u001b[0m\u001b[0mkwargs\u001b[0m\u001b[0;34m)\u001b[0m  \u001b[0;31m# type: ignore[misc]\u001b[0m\u001b[0;34m\u001b[0m\u001b[0;34m\u001b[0m\u001b[0m\n\u001b[1;32m   1517\u001b[0m         \u001b[0;32melse\u001b[0m\u001b[0;34m:\u001b[0m\u001b[0;34m\u001b[0m\u001b[0;34m\u001b[0m\u001b[0m\n\u001b[0;32m-> 1518\u001b[0;31m             \u001b[0;32mreturn\u001b[0m \u001b[0mself\u001b[0m\u001b[0;34m.\u001b[0m\u001b[0m_call_impl\u001b[0m\u001b[0;34m(\u001b[0m\u001b[0;34m*\u001b[0m\u001b[0margs\u001b[0m\u001b[0;34m,\u001b[0m \u001b[0;34m**\u001b[0m\u001b[0mkwargs\u001b[0m\u001b[0;34m)\u001b[0m\u001b[0;34m\u001b[0m\u001b[0;34m\u001b[0m\u001b[0m\n\u001b[0m\u001b[1;32m   1519\u001b[0m \u001b[0;34m\u001b[0m\u001b[0m\n\u001b[1;32m   1520\u001b[0m     \u001b[0;32mdef\u001b[0m \u001b[0m_call_impl\u001b[0m\u001b[0;34m(\u001b[0m\u001b[0mself\u001b[0m\u001b[0;34m,\u001b[0m \u001b[0;34m*\u001b[0m\u001b[0margs\u001b[0m\u001b[0;34m,\u001b[0m \u001b[0;34m**\u001b[0m\u001b[0mkwargs\u001b[0m\u001b[0;34m)\u001b[0m\u001b[0;34m:\u001b[0m\u001b[0;34m\u001b[0m\u001b[0;34m\u001b[0m\u001b[0m\n",
            "\u001b[0;32m/usr/local/lib/python3.10/dist-packages/torch/nn/modules/module.py\u001b[0m in \u001b[0;36m_call_impl\u001b[0;34m(self, *args, **kwargs)\u001b[0m\n\u001b[1;32m   1525\u001b[0m                 \u001b[0;32mor\u001b[0m \u001b[0m_global_backward_pre_hooks\u001b[0m \u001b[0;32mor\u001b[0m \u001b[0m_global_backward_hooks\u001b[0m\u001b[0;34m\u001b[0m\u001b[0;34m\u001b[0m\u001b[0m\n\u001b[1;32m   1526\u001b[0m                 or _global_forward_hooks or _global_forward_pre_hooks):\n\u001b[0;32m-> 1527\u001b[0;31m             \u001b[0;32mreturn\u001b[0m \u001b[0mforward_call\u001b[0m\u001b[0;34m(\u001b[0m\u001b[0;34m*\u001b[0m\u001b[0margs\u001b[0m\u001b[0;34m,\u001b[0m \u001b[0;34m**\u001b[0m\u001b[0mkwargs\u001b[0m\u001b[0;34m)\u001b[0m\u001b[0;34m\u001b[0m\u001b[0;34m\u001b[0m\u001b[0m\n\u001b[0m\u001b[1;32m   1528\u001b[0m \u001b[0;34m\u001b[0m\u001b[0m\n\u001b[1;32m   1529\u001b[0m         \u001b[0;32mtry\u001b[0m\u001b[0;34m:\u001b[0m\u001b[0;34m\u001b[0m\u001b[0;34m\u001b[0m\u001b[0m\n",
            "\u001b[0;32m/usr/local/lib/python3.10/dist-packages/torch/nn/modules/linear.py\u001b[0m in \u001b[0;36mforward\u001b[0;34m(self, input)\u001b[0m\n\u001b[1;32m    112\u001b[0m \u001b[0;34m\u001b[0m\u001b[0m\n\u001b[1;32m    113\u001b[0m     \u001b[0;32mdef\u001b[0m \u001b[0mforward\u001b[0m\u001b[0;34m(\u001b[0m\u001b[0mself\u001b[0m\u001b[0;34m,\u001b[0m \u001b[0minput\u001b[0m\u001b[0;34m:\u001b[0m \u001b[0mTensor\u001b[0m\u001b[0;34m)\u001b[0m \u001b[0;34m->\u001b[0m \u001b[0mTensor\u001b[0m\u001b[0;34m:\u001b[0m\u001b[0;34m\u001b[0m\u001b[0;34m\u001b[0m\u001b[0m\n\u001b[0;32m--> 114\u001b[0;31m         \u001b[0;32mreturn\u001b[0m \u001b[0mF\u001b[0m\u001b[0;34m.\u001b[0m\u001b[0mlinear\u001b[0m\u001b[0;34m(\u001b[0m\u001b[0minput\u001b[0m\u001b[0;34m,\u001b[0m \u001b[0mself\u001b[0m\u001b[0;34m.\u001b[0m\u001b[0mweight\u001b[0m\u001b[0;34m,\u001b[0m \u001b[0mself\u001b[0m\u001b[0;34m.\u001b[0m\u001b[0mbias\u001b[0m\u001b[0;34m)\u001b[0m\u001b[0;34m\u001b[0m\u001b[0;34m\u001b[0m\u001b[0m\n\u001b[0m\u001b[1;32m    115\u001b[0m \u001b[0;34m\u001b[0m\u001b[0m\n\u001b[1;32m    116\u001b[0m     \u001b[0;32mdef\u001b[0m \u001b[0mextra_repr\u001b[0m\u001b[0;34m(\u001b[0m\u001b[0mself\u001b[0m\u001b[0;34m)\u001b[0m \u001b[0;34m->\u001b[0m \u001b[0mstr\u001b[0m\u001b[0;34m:\u001b[0m\u001b[0;34m\u001b[0m\u001b[0;34m\u001b[0m\u001b[0m\n",
            "\u001b[0;31mKeyboardInterrupt\u001b[0m: "
          ]
        }
      ]
    },
    {
      "cell_type": "code",
      "source": [
        "model.eval()\n",
        "with torch.no_grad():\n",
        "    test_pred_log_prob = model(test_x)  # These are log probabilities\n",
        "    test_pred_prob = torch.exp(test_pred_log_prob)  # Convert to probabilities\n",
        "    _, predicted_classes = torch.max(test_pred_log_prob, 1)  # Get class labels\n",
        "\n",
        "    #Evaluating the unlabeled data, so we can upload the results obtained\n",
        "    test_pred_log_prob_topredict = model(tensor_to_predict)  # These are log probabilities\n",
        "    test_pred_prob_topredict = torch.exp(test_pred_log_prob_topredict)  # Convert to probabilities\n",
        "    _, to_predict_labels = torch.max(test_pred_log_prob_topredict, 1)  # Get class labels\n",
        "\n",
        "\n",
        "\n",
        "# # Make sure the model is in evaluation mode\n",
        "# model.eval()\n",
        "\n",
        "# # No gradient computation needed\n",
        "# with torch.no_grad():\n",
        "#     # Forward pass through the network to get the logits\n",
        "#     logits = model(test_x)\n",
        "\n",
        "#     # Convert logits to class predictions\n",
        "#     y_pred = torch.argmax(logits, dim=1)\n",
        "\n",
        "# # y_pred now contains the predicted classes for each instance in test_x\n",
        "print(y_pred)\n",
        "model.eval()\n",
        "with torch.no_grad():\n",
        "    y_pred = model(test_x)  # Get the softmax output for the test data\n",
        "    _, y_pred = torch.max(y_pred, 1)  # Find the index of the max probability\n",
        "print(y_pred)\n",
        "precision, recall, f1, accuracy=evaluating(y_test,y_pred)"
      ],
      "metadata": {
        "colab": {
          "base_uri": "https://localhost:8080/",
          "height": 1000
        },
        "id": "Mh4sNSD--sXC",
        "outputId": "7910a35e-e0a6-4b2c-f4d2-87752a2e8b98"
      },
      "execution_count": 192,
      "outputs": [
        {
          "output_type": "stream",
          "name": "stdout",
          "text": [
            "tensor([[ -0.9376,  -0.8478,  -1.7270,  -6.2215,  -8.7306,  -9.0289],\n",
            "        [ -6.9323,  -3.3271,  -1.8129,  -0.5420,  -4.5303,  -1.5723],\n",
            "        [ -9.6074,  -5.5566,  -5.7978,  -3.4537,  -0.2185,  -1.8471],\n",
            "        ...,\n",
            "        [-11.2851,  -6.4057,  -6.6245,  -4.2423,  -0.4185,  -1.1252],\n",
            "        [ -6.8067,  -3.4874,  -1.3229,  -0.4570,  -7.2200,  -2.6878],\n",
            "        [ -7.2845,  -3.3951,  -1.8326,  -0.6955,  -4.7292,  -1.2102]],\n",
            "       grad_fn=<LogSoftmaxBackward0>)\n",
            "tensor([5, 3, 3, 5, 1, 0, 3, 5, 2, 1, 3, 1, 5, 3, 3, 3, 5, 5, 2, 0, 2, 3, 0, 3,\n",
            "        5, 3, 5, 3, 5, 4, 2, 2, 2, 2, 2, 2, 5, 1, 5, 0, 5, 0, 5, 5, 5, 4, 2, 4,\n",
            "        3, 5, 5, 0, 2, 1, 3, 5, 4, 2, 5, 3, 1, 5, 2, 2, 5, 1, 2, 3, 1, 0, 5, 1,\n",
            "        5, 5, 1, 2, 5, 5, 5, 4, 5, 1, 5, 3, 5, 4, 1, 3, 0, 0, 5, 3, 5, 5, 5, 3,\n",
            "        3, 3, 2, 5, 1, 2, 5, 2, 1, 2, 2, 0, 5, 2, 2, 5, 5, 2, 2, 1, 1, 3, 4, 3,\n",
            "        3, 2, 1, 3, 3, 5, 3, 0, 1, 1, 5, 5, 2, 1, 2, 0, 2, 2, 2, 3, 5, 5, 5, 5,\n",
            "        5, 3, 5, 3, 3, 5, 2, 2, 2, 2, 5, 5, 2, 5, 2, 4, 5, 5, 2, 2, 2, 5, 1, 2,\n",
            "        5, 1, 4, 2, 5, 5, 5, 3, 0, 2, 5, 3, 3, 5, 2, 5, 2, 3, 3, 5, 5, 5, 1, 5,\n",
            "        3, 3, 2, 5, 5, 5, 3, 3, 5, 3, 3, 2, 3, 3, 5, 2, 5, 5, 2, 5, 2, 3, 4, 2,\n",
            "        5, 5, 1, 1, 3, 3, 3, 1, 5, 5, 5, 5, 4, 5, 2, 5, 5, 5, 5, 2, 5, 3, 2, 3,\n",
            "        0, 2, 2, 3, 5, 2, 3, 1, 4, 5, 2, 3, 5, 3, 2, 2, 5, 2, 3, 5, 2, 3, 3, 5,\n",
            "        5, 5, 5, 2, 5, 1, 2, 5, 1, 5, 3, 5, 4, 5, 2, 1, 5, 2, 1, 0, 5, 2, 3, 5,\n",
            "        1, 0, 1, 2, 2, 0, 3, 2, 5, 3, 1, 0, 5, 2, 4, 4, 5, 5, 5, 3, 2, 3, 3, 1,\n",
            "        1, 4, 5, 5, 3, 2, 3, 5, 5, 2, 2, 2, 2, 5, 2, 5, 5, 4, 5, 2, 5, 4, 5, 2,\n",
            "        2, 5, 5, 5, 2, 5, 3, 2, 5, 2, 5, 3, 5, 5, 0, 5, 3, 4, 5, 5, 5, 5, 2, 5,\n",
            "        4, 5, 3, 4, 2, 2, 5, 5, 1, 5, 3, 5, 1, 5, 2, 2, 5, 3, 5, 1, 1, 5, 0, 5,\n",
            "        2, 5, 3, 3, 3, 5, 3, 1, 2, 5, 2, 5, 2, 2, 1, 4, 2, 5, 1, 3, 1, 5, 5, 3,\n",
            "        3, 3, 1, 2, 3, 5, 5, 2, 3, 2, 5, 5, 5, 4, 2, 2, 0, 5, 0, 3, 0, 1, 5, 1,\n",
            "        5, 2, 3, 5, 2, 5, 5, 5, 3, 1, 1, 3, 2, 1, 2, 2, 4, 3, 5, 2, 5, 5, 5, 3,\n",
            "        5, 4, 2, 5, 5, 3, 1, 1, 3, 3, 2, 3, 5, 5, 5, 5, 3, 5, 0, 4, 2, 3, 5, 3,\n",
            "        3, 5, 2, 2, 0, 5, 2, 0, 5, 0, 2, 1, 2, 3, 2, 3, 3, 5, 5, 4, 5, 5, 2, 2,\n",
            "        5, 4, 5, 4, 3, 5, 3, 5, 2, 3, 0, 5, 2, 2, 2, 5, 5, 3, 3, 1, 5, 3, 3, 1,\n",
            "        3, 2, 1, 3, 3, 2, 3, 3, 3, 5, 5, 1, 5, 1, 3, 5, 5, 2, 2, 3, 0, 5, 5, 3,\n",
            "        3, 2, 3, 3, 5, 5, 2, 0, 3, 5, 5, 3, 5, 5, 3, 5, 5, 5, 5, 5, 2, 5, 2, 1,\n",
            "        3, 5, 1, 2, 3, 2, 3, 5, 1, 2, 2, 3, 0, 5, 5, 3, 3, 5, 3, 3, 5, 2, 5, 5,\n",
            "        0, 5, 1, 5, 5, 3, 3, 5, 0, 5, 1, 3, 2, 2, 3, 3, 2, 0, 4, 1, 2, 1, 0, 5,\n",
            "        3, 2, 5, 3, 2, 4, 2, 3, 3, 5, 4, 3, 1, 2, 3, 3, 1, 3, 5, 2, 3, 3, 5, 3,\n",
            "        5, 3, 5, 4, 5, 4, 1, 1, 2, 5, 2, 2, 3, 5, 2, 2, 5, 3, 0, 5, 2, 1, 2, 0,\n",
            "        2, 2, 3, 1, 3, 1, 3, 1, 5, 3, 3, 2, 5, 5, 2, 3, 5, 5, 1, 2, 5, 5, 1, 5,\n",
            "        3, 1, 3, 0, 3, 3, 1, 2, 3, 3, 2, 4, 0, 2, 2, 0, 2, 2, 5, 5, 3, 0, 1, 0,\n",
            "        4, 0, 1, 5, 5, 5, 5, 0, 2, 5, 0, 3, 5, 2, 1, 5, 3, 5, 5, 1, 2, 2, 5, 5,\n",
            "        1, 2, 5, 4, 3, 1, 3, 2, 5, 5, 5, 5, 1, 5, 2, 5, 5, 2, 5, 1, 5, 5, 1, 5,\n",
            "        3, 5, 5, 3, 0, 5, 2, 5, 1, 3, 2, 1, 5, 3, 3, 5, 2, 2, 5, 5, 2, 5, 5, 5,\n",
            "        2, 2, 1, 3, 2, 3, 5, 1, 3, 2, 0, 3, 0, 0, 5, 5, 3, 5, 2, 2, 1, 4, 0, 5,\n",
            "        5, 5, 3, 5, 4, 3, 5, 5, 4, 1, 5, 5, 5, 3, 5, 3, 2, 3, 3, 0, 3, 2, 2, 0,\n",
            "        5, 5, 5, 1, 2, 5, 5, 5, 5, 5, 5, 2, 5, 3, 3, 0, 5, 5, 2, 4, 5, 5, 5, 2,\n",
            "        1, 3, 3, 5, 2, 5, 1, 3, 3, 2, 5, 5, 5, 0, 5, 1, 2, 3, 3, 3, 5, 1, 2, 2,\n",
            "        5, 5, 1, 0, 3, 1, 3, 5, 2, 5, 3, 2, 3, 3, 3, 2, 2, 5, 5, 2, 5, 5, 3, 2,\n",
            "        3, 3, 0, 5, 4, 0, 1, 3, 5, 3, 5, 3, 1, 2, 3, 3, 5, 2, 2, 1, 3, 2, 2, 5,\n",
            "        2, 0, 3, 2, 5, 1, 2, 5, 5, 3, 5, 1, 3, 5, 5, 5, 5, 2, 3, 5, 3, 5, 2, 3])\n",
            "Accuracy score: 0.3771\n",
            "Precision: 0.4410\n",
            "Recall: 0.3824\n",
            "F1 Score: 0.3527\n"
          ]
        },
        {
          "output_type": "display_data",
          "data": {
            "text/plain": [
              "<Figure size 640x480 with 2 Axes>"
            ],
            "image/png": "[encoded data removed]"
          },
          "metadata": {}
        }
      ]
    },
    {
      "cell_type": "code",
      "source": [
        "to_predict_labels_list=(list(to_predict_labels.tolist()))\n",
        "\n",
        "ids=list(range(len(to_predict_labels_list)))\n",
        "# to_predict = pd.read_csv('unlabelled_test_data.csv')\n",
        "# to_predict_text=to_predict['sentence']\n",
        "# print(to_predict)\n",
        "# to_predict['difficulty'] = list(map(lambda x: \"A1\", to_predict['sentence'].tolist()))\n",
        "predictions = pd.DataFrame({'difficulty':to_predict_labels_list,'id':ids})\n",
        "#We inversely convert the levels from strings to integers\n",
        "inv_mapping = {0:'A1',1:'A2',2:'B1',3:'B2',4:'C1',5:'C2'}\n",
        "predictions['difficulty'] = predictions['difficulty'].replace(inv_mapping)\n",
        "predictions.set_index('id',inplace = True)\n",
        "print(predictions)\n",
        "predictions.to_csv('submission.csv')"
      ],
      "metadata": {
        "id": "QpaVR7SS55aO"
      },
      "execution_count": null,
      "outputs": []
    },
    {
      "cell_type": "markdown",
      "source": [
        "# **Logistic regression**"
      ],
      "metadata": {
        "id": "RNm44hPGsD2O"
      }
    },
    {
      "cell_type": "code",
      "source": [
        "tfidf_vector = TfidfVectorizer()"
      ],
      "metadata": {
        "id": "nrLGNV6PsOPF"
      },
      "execution_count": null,
      "outputs": []
    },
    {
      "cell_type": "code",
      "source": [
        "classifier = LogisticRegression()\n",
        "pipe = Pipeline([('vectorizer', tfidf_vector),('classifier', classifier)])\n",
        "pipe.fit(X_train, y_train)\n",
        "\n",
        "# Define the hyperparameter grid\n",
        "param_grid = {\n",
        "    # 'vectorizer__max_df': [0.5, 0.75, 1.0],\n",
        "    'vectorizer__ngram_range': [(1, 1), (1, 2)],\n",
        "    # 'classifier__C': [0.1, 1, 10],\n",
        "    # 'classifier__penalty': ['l1', 'l2']\n",
        "}\n",
        "\n",
        "# Create GridSearchCV instance\n",
        "grid_search = GridSearchCV(pipe, param_grid, cv=5)\n",
        "\n",
        "# Fit the model\n",
        "grid_search.fit(X_train, y_train)\n",
        "\n",
        "# Optionally, evaluate on test set\n",
        "best_model = grid_search.best_estimator_\n",
        "test_score = best_model.score(X_test, y_test)\n",
        "print(f\"Best Model Test Score: {test_score}\")"
      ],
      "metadata": {
        "id": "y6zDhLbSsWo9"
      },
      "execution_count": null,
      "outputs": []
    },
    {
      "cell_type": "code",
      "source": [
        "precision, recall, f1, accuracy=evaluating(y_test,y_pred)"
      ],
      "metadata": {
        "id": "3q0V1FEm5pYI"
      },
      "execution_count": null,
      "outputs": []
    },
    {
      "cell_type": "code",
      "source": [
        "# y_pred = pipe.predict(X_test)\n",
        "# With the best model of the grid\n",
        "y_pred = grid_search.predict(X_test)"
      ],
      "metadata": {
        "id": "YTsvv-4-5mo0"
      },
      "execution_count": null,
      "outputs": []
    },
    {
      "cell_type": "code",
      "source": [
        "prediction = df_pred['sentence']\n",
        "prediction_logistic_regression=pipe.predict(prediction)\n",
        "\n",
        "submission = df_pred.copy()\n",
        "submission['difficulty']=prediction_logistic_regression\n",
        "submission =submission.drop('sentence',axis=1)"
      ],
      "metadata": {
        "id": "UP8zxzOkoI3m"
      },
      "execution_count": null,
      "outputs": []
    },
    {
      "cell_type": "code",
      "source": [
        "from google.colab import files\n",
        "\n",
        "submission.to_csv('unil_neuchatel.csv', encoding ='utf-8-sig',index=True)\n",
        "# files.download('unil_neuchatel.csv')"
      ],
      "metadata": {
        "id": "gaak03QqyYCe"
      },
      "execution_count": null,
      "outputs": []
    },
    {
      "cell_type": "markdown",
      "source": [
        "#**kNN**"
      ],
      "metadata": {
        "id": "rU3GUUvdzLvh"
      }
    },
    {
      "cell_type": "code",
      "source": [
        "from sklearn.neighbors import KNeighborsClassifier\n",
        "knn = KNeighborsClassifier()"
      ],
      "metadata": {
        "id": "Eme4SS8TzZrt"
      },
      "execution_count": null,
      "outputs": []
    },
    {
      "cell_type": "code",
      "source": [
        "tfidf = TfidfVectorizer()\n",
        "pipe = Pipeline([('vectorizer', tfidf),('classifier', knn)])\n",
        "pipe.fit(X_train, y_train)"
      ],
      "metadata": {
        "id": "P3Qt9y6NzgHe"
      },
      "execution_count": null,
      "outputs": []
    },
    {
      "cell_type": "code",
      "source": [
        "y_pred=pipe.predict(X_test)"
      ],
      "metadata": {
        "id": "i7s5jsgPzhFq"
      },
      "execution_count": null,
      "outputs": []
    },
    {
      "cell_type": "code",
      "source": [
        "precision, recall, f1, accuracy = evaluating(y_test,y_pred)"
      ],
      "metadata": {
        "id": "MAOe5JJgzkvI"
      },
      "execution_count": null,
      "outputs": []
    },
    {
      "cell_type": "code",
      "source": [
        "from sklearn.model_selection import GridSearchCV\n",
        "k_range = list(range(1, 8))\n",
        "param_grid = dict(n_neighbors=k_range)\n",
        "knn_cv = GridSearchCV(knn, param_grid, cv=5, scoring = 'accuracy', return_train_score = False, verbose = 1)\n",
        "pipe=Pipeline([('vectorizer', tfidf),('classifier', knn_cv)])\n",
        "pipe.fit(X_train,y_train)"
      ],
      "metadata": {
        "id": "4itW5mJSznOt"
      },
      "execution_count": null,
      "outputs": []
    },
    {
      "cell_type": "code",
      "source": [
        "y_pred=pipe.predict(X_test)"
      ],
      "metadata": {
        "id": "oPVpeZxizpHC"
      },
      "execution_count": null,
      "outputs": []
    },
    {
      "cell_type": "code",
      "source": [
        "precision, recall, f1, accuracy = evaluating(y_test,y_pred)"
      ],
      "metadata": {
        "id": "0QzswKowzrEo"
      },
      "execution_count": null,
      "outputs": []
    },
    {
      "cell_type": "code",
      "source": [
        "knn_cv.best_params_"
      ],
      "metadata": {
        "id": "qVD0m5NAztfW"
      },
      "execution_count": null,
      "outputs": []
    },
    {
      "cell_type": "code",
      "source": [
        "knn_cv.best_score_"
      ],
      "metadata": {
        "id": "iXtXDccBCpAQ"
      },
      "execution_count": null,
      "outputs": []
    },
    {
      "cell_type": "code",
      "source": [
        "prediction_knn=pipe.predict(df_pred['sentence'])\n"
      ],
      "metadata": {
        "id": "smSvpjK9zvpi"
      },
      "execution_count": null,
      "outputs": []
    },
    {
      "cell_type": "markdown",
      "source": [
        "# **Decision Tree**\n"
      ],
      "metadata": {
        "id": "_Gw17AMudZ0i"
      }
    },
    {
      "cell_type": "code",
      "source": [
        "from sklearn.tree import DecisionTreeClassifier, plot_tree\n",
        "\n",
        "classifier = DecisionTreeClassifier(random_state=0)\n",
        "\n",
        "pipe = Pipeline([('vectorizer', tfidf_vector),('classifier', classifier)])\n",
        "\n",
        "pipe.fit(X_train, y_train)\n",
        "\n",
        "y_pred = pipe.predict(X_test)"
      ],
      "metadata": {
        "id": "rEVz2jA4g7kg"
      },
      "execution_count": null,
      "outputs": []
    },
    {
      "cell_type": "code",
      "source": [
        "evaluating(y_test,y_pred)"
      ],
      "metadata": {
        "id": "Yf6CdwWFkKw1"
      },
      "execution_count": null,
      "outputs": []
    },
    {
      "cell_type": "markdown",
      "source": [
        "# **Random Forest**\n",
        "\n"
      ],
      "metadata": {
        "id": "crrRH3ESl4uX"
      }
    },
    {
      "cell_type": "code",
      "source": [
        "from sklearn.ensemble import RandomForestClassifier\n",
        "Randfor=RandomForestClassifier()"
      ],
      "metadata": {
        "id": "BXBO3jZ1mPGG"
      },
      "execution_count": null,
      "outputs": []
    },
    {
      "cell_type": "code",
      "source": [
        "tfidf = TfidfVectorizer()\n",
        "\n",
        "pipe = Pipeline([('vectorizer', tfidf), ('classifier', Randfor)])\n",
        "\n",
        "pipe.fit(X_train, y_train)"
      ],
      "metadata": {
        "id": "RNNtCx3lqg30"
      },
      "execution_count": null,
      "outputs": []
    },
    {
      "cell_type": "code",
      "source": [
        "y_pred=pipe.predict(X_test)"
      ],
      "metadata": {
        "id": "5iqpATeVq8gR"
      },
      "execution_count": null,
      "outputs": []
    },
    {
      "cell_type": "code",
      "source": [
        "evaluating(y_test,y_pred)"
      ],
      "metadata": {
        "id": "uDR90OEXq_Vx"
      },
      "execution_count": null,
      "outputs": []
    },
    {
      "cell_type": "markdown",
      "source": [
        "#**Random forest Regressor**"
      ],
      "metadata": {
        "id": "hdbC0TWcgX1i"
      }
    },
    {
      "cell_type": "code",
      "source": [
        "\n",
        "from sklearn.ensemble import RandomForestRegressor\n",
        "from sklearn.pipeline import make_pipeline\n",
        "\n",
        "# Create a pipeline\n",
        "tfidf = TfidfVectorizer()\n",
        "Randforreg=RandomForestRegressor()\n",
        "model = make_pipeline(TfidfVectorizer(), RandomForestRegressor())\n",
        "\n",
        "# Train the model\n",
        "model.fit(X_train, y_train)\n",
        "\n",
        "# Predict and round to nearest class\n",
        "predictions = model.predict(X_test)\n",
        "rounded_predictions = np.rint(predictions)  # round to nearest integer\n",
        "\n"
      ],
      "metadata": {
        "id": "XJo-G1_jgU3E"
      },
      "execution_count": null,
      "outputs": []
    },
    {
      "cell_type": "code",
      "source": [
        "from sklearn.metrics import mean_squared_error\n",
        "# Evaluate the model (using regression metrics)\n",
        "mse = mean_squared_error(y_test, rounded_predictions)\n",
        "print(f'Mean Squared Error: {mse}')\n",
        "y_pred=predictions\n",
        "evaluating(y_test,y_pred)"
      ],
      "metadata": {
        "id": "5KazQBihjbkQ"
      },
      "execution_count": null,
      "outputs": []
    },
    {
      "cell_type": "code",
      "source": [
        "plt.plot(y_pred,'.')\n",
        "print(max(y_pred))"
      ],
      "metadata": {
        "id": "1aJwPmezj0jj"
      },
      "execution_count": null,
      "outputs": []
    },
    {
      "cell_type": "code",
      "source": [
        "X_train[0]"
      ],
      "metadata": {
        "id": "7ptGjPppitVT"
      },
      "execution_count": null,
      "outputs": []
    },
    {
      "cell_type": "markdown",
      "metadata": {
        "id": "jctQ2IXYeXEs"
      },
      "source": [
        "# This is how to submit a pd file with predictions\n",
        "### for the example we will submit a file where only A1 is given as a prediction"
      ]
    },
    {
      "cell_type": "code",
      "execution_count": null,
      "metadata": {
        "id": "pg1ITBF8e0aq"
      },
      "outputs": [],
      "source": [
        "to_predict = pd.read_csv('unlabelled_test_data.csv')\n",
        "to_predict_text=to_predict['sentence']\n",
        "print(to_predict)\n",
        "to_predict['difficulty'] = list(map(lambda x: \"A1\", to_predict['sentence'].tolist()))\n",
        "predictions = to_predict.drop(columns=['sentence'], inplace = False)\n",
        "predictions.set_index('id',inplace = True)\n",
        "\n",
        "predictions.to_csv('submission.csv')"
      ]
    },
    {
      "cell_type": "code",
      "execution_count": null,
      "metadata": {
        "id": "1H5k9yiIg16u"
      },
      "outputs": [],
      "source": [
        "predictions.head(2)"
      ]
    },
    {
      "cell_type": "code",
      "execution_count": null,
      "metadata": {
        "id": "D3i5G0qzgBxP"
      },
      "outputs": [],
      "source": [
        "#! kaggle competitions submit -c detecting-french-texts-difficulty-level-2023 -f submission.csv -m \"Sample submission\""
      ]
    },
    {
      "cell_type": "code",
      "source": [
        "print(x)"
      ],
      "metadata": {
        "id": "RxarYFdQGHib"
      },
      "execution_count": null,
      "outputs": []
    }
  ],
  "metadata": {
    "colab": {
      "provenance": [],
      "toc_visible": true,
      "include_colab_link": true
    },
    "kernelspec": {
      "display_name": "Python 3 (ipykernel)",
      "language": "python",
      "name": "python3"
    },
    "language_info": {
      "codemirror_mode": {
        "name": "ipython",
        "version": 3
      },
      "file_extension": ".py",
      "mimetype": "text/x-python",
      "name": "python",
      "nbconvert_exporter": "python",
      "pygments_lexer": "ipython3",
      "version": "3.9.6"
    },
    "toc": {
      "base_numbering": 1,
      "nav_menu": {},
      "number_sections": true,
      "sideBar": true,
      "skip_h1_title": false,
      "title_cell": "Table of Contents",
      "title_sidebar": "Contents",
      "toc_cell": false,
      "toc_position": {},
      "toc_section_display": true,
      "toc_window_display": false
    }
  },
  "nbformat": 4,
  "nbformat_minor": 0
}